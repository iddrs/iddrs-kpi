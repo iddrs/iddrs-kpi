{
 "cells": [
  {
   "cell_type": "code",
   "execution_count": null,
   "id": "50b601f7-2b8d-4b57-a89f-ebb70927719a",
   "metadata": {
    "tags": [
     "remove-input"
    ]
   },
   "outputs": [],
   "source": [
    "import pandas as pd\n",
    "import matplotlib.pyplot as plt\n",
    "from matplotlib.ticker import FuncFormatter\n",
    "import numpy as np\n",
    "import calendar\n",
    "from datetime import date\n",
    "\n",
    "%run ../db.py\n",
    "%run ../database.py\n",
    "%run ../utils.py\n"
   ]
  },
  {
   "cell_type": "code",
   "execution_count": null,
   "id": "09daea6b-4c7a-41b7-b5f0-a9921ce92010",
   "metadata": {
    "tags": [
     "remove-input"
    ]
   },
   "outputs": [],
   "source": [
    "cgreen = '#27ae60'\n",
    "cblue = '#2980b9'\n",
    "cred = '#c0392b'\n",
    "corange = '#d35400'\n",
    "cgrey = '#7f8c8d'\n",
    "cdark = '#2c3e50'\n",
    "cwithe = '#ecf0f1'\n",
    "\n",
    "figsize = (10, 6)\n",
    "\n",
    "limite_suplementacao_loa = 0.15"
   ]
  },
  {
   "cell_type": "code",
   "execution_count": null,
   "id": "20e5a08c-b2cd-44ba-a8a0-d0187f0f9901",
   "metadata": {
    "tags": [
     "remove-input"
    ]
   },
   "outputs": [],
   "source": [
    "spec = {\n",
    "    'data_base': 'Mês',\n",
    "    'arrecadado': 'Arrecadado',\n",
    "    'empenhado': 'Empenhado',\n",
    "    'liquidado': 'Liquidado',\n",
    "    'dif_arrec_emp': 'Empenhado / Arrecadado',\n",
    "    'dif_arrec_liq': 'Liquidado / Arrecadado'\n",
    "}\n",
    "fmt = {\n",
    "    'data_base': date_to_month_name,\n",
    "    'arrecadado': money_formatter,\n",
    "    'empenhado': money_formatter,\n",
    "    'liquidado': money_formatter,\n",
    "    'dif_arrec_emp': perc0_formatter,\n",
    "    'dif_arrec_liq': perc0_formatter\n",
    "}"
   ]
  },
  {
   "cell_type": "code",
   "execution_count": null,
   "id": "4c625981-0930-4d77-82ac-b5d91c9f0ab4",
   "metadata": {
    "tags": [
     "remove-input"
    ]
   },
   "outputs": [],
   "source": [
    "def plot_acumulado(df, titulo):\n",
    "    fig, ax = plt.subplots(figsize=figsize)\n",
    "    fig.suptitle(titulo, x=0, fontsize=16)\n",
    "    plt.title('valores acumulados', x=0)\n",
    "    x = df['data_base'].dt.strftime('%b')\n",
    "    plt.plot(x, df['arrecadado'], color=cgreen, label='Arrecadado', marker='o')\n",
    "    plt.plot(x, df['empenhado'], color=cred, label='Empenhado', marker='s')\n",
    "    plt.plot(x, df['liquidado'], color=corange, label='Liquidado', marker='^')\n",
    "    plt.ylim(bottom=0)\n",
    "    ax.yaxis.set_major_formatter(int_formatter)\n",
    "    plt.xticks(x)\n",
    "    plt.legend(loc='best', ncol=3)\n",
    "    plt.show()\n",
    "\n",
    "def adiciona_data_base(df):\n",
    "    last_day_of_month = []\n",
    "    for month in range(df['data_base'].max().month + 1, 13):\n",
    "        last_day_of_month.append(date(df['data_base'].max().year, month, calendar.monthrange(df['data_base'].max().year, month)[1]))\n",
    "    for dt in last_day_of_month:\n",
    "        n = pd.DataFrame([{'data_base': dt}])\n",
    "        df = pd.concat([df, n])\n",
    "    df = df.reset_index(drop=True)\n",
    "    return df\n"
   ]
  },
  {
   "cell_type": "markdown",
   "id": "d038977a-ec0f-4686-b811-c5809cf7aa3e",
   "metadata": {},
   "source": [
    "# Receitas x Despesas\n",
    "\n",
    "Nesta parte são copmradas as receitas e despesas da **Prefeitura**, excluídas, portanto, as receias do *RPPS*. Também são excluídas as receitas *intra-orçamentárias*.\n",
    "\n",
    "As receitas são apresentadas em seus valores líquidos das deduções da receita."
   ]
  },
  {
   "cell_type": "markdown",
   "id": "b8f48b2c-86ac-451b-9f86-d5b8146dee0e",
   "metadata": {},
   "source": [
    "## Receita Total x Despesa Total"
   ]
  },
  {
   "cell_type": "code",
   "execution_count": null,
   "id": "f885df7d-155a-4e94-8bfe-d43ba444de01",
   "metadata": {
    "tags": [
     "remove-input"
    ]
   },
   "outputs": [],
   "source": [
    "nome = 'Receita Total x Despesa Total'\n",
    "sql = f'''\n",
    "WITH d AS (\n",
    "\tSELECT\n",
    "\t\tdata_final AS data_base,\n",
    "\t\t0.0 AS arrecadado,\n",
    "\t\tSUM(valor_empenhado) AS empenhado,\n",
    "\t\tSUM(valor_liquidado) AS liquidado\n",
    "\tFROM\n",
    "\t\tpad.\"BAL_DESP\"\n",
    "\tWHERE\n",
    "\t\tentidade LIKE 'pm'\n",
    "\t\tAND controle BETWEEN {controle_ano}01 AND {controle_mes}\n",
    "\tGROUP BY\n",
    "\t\tdata_base\n",
    "\tORDER BY\n",
    "\t\tdata_base ASC\n",
    "), r AS (\n",
    "\tSELECT\n",
    "\t\tdata_final AS data_base,\n",
    "\t\tSUM(receita_realizada) AS arrecadado,\n",
    "\t\t0.0 AS empenhado,\n",
    "\t\t0.0 AS liquidado\n",
    "\tFROM\n",
    "\t\tpad.\"BAL_REC\"\n",
    "\tWHERE\n",
    "\t\tentidade LIKE 'pm'\n",
    "\t\tAND controle BETWEEN {controle_ano}01 AND {controle_mes}\n",
    "\t\tAND classe_receita NOT LIKE 'intra'\n",
    "\tGROUP BY\n",
    "\t\tdata_base\n",
    "\tORDER BY\n",
    "\t\tdata_base ASC\n",
    "), t AS (SELECT * FROM r UNION SELECT * FROM d)\n",
    "SELECT data_base, SUM(arrecadado) AS arrecadado, SUM(empenhado) AS empenhado, SUM(liquidado) AS liquidado FROM t GROUP BY data_base ORDER BY data_base ASC\n",
    "'''\n",
    "#print(sql)\n",
    "orcamento = sqldf(sql)\n",
    "orcamento['dif_arrec_emp'] = orcamento['empenhado'] / orcamento['arrecadado']\n",
    "orcamento['dif_arrec_liq'] = orcamento['liquidado'] / orcamento['arrecadado']\n",
    "orcamento = adiciona_data_base(orcamento)\n",
    "orcamento['data_base'] = pd.to_datetime(orcamento['data_base'], format='%Y-%m-%d')\n",
    "#orcamento"
   ]
  },
  {
   "cell_type": "code",
   "execution_count": null,
   "id": "61934c32-a212-4a60-98e7-a3e66b02219c",
   "metadata": {
    "tags": [
     "remove-input"
    ]
   },
   "outputs": [],
   "source": [
    "plot_acumulado(orcamento.copy(), nome)"
   ]
  },
  {
   "cell_type": "code",
   "execution_count": null,
   "id": "0b92bd20-7059-4d64-9958-3b19d3923b0e",
   "metadata": {
    "tags": [
     "remove-input"
    ]
   },
   "outputs": [],
   "source": [
    "df = df_table(orcamento.copy(), spec, fmt)\n",
    "df.style.set_caption(f'{nome} - valores acumulados - {dt.year}').hide(axis='index')\n",
    "#df"
   ]
  },
  {
   "cell_type": "markdown",
   "id": "26e371c5-875f-4adb-88cc-2ca301e56340",
   "metadata": {},
   "source": [
    "## Receita Corrente x Despesa Corrente"
   ]
  },
  {
   "cell_type": "code",
   "execution_count": null,
   "id": "3dab34ba-eeb1-4df1-9e61-c9b9bb8faaee",
   "metadata": {
    "tags": [
     "remove-input"
    ]
   },
   "outputs": [],
   "source": [
    "nome = 'Receita Corrente x Despesa Corrente'\n",
    "sql = f'''\n",
    "WITH d AS (\n",
    "\tSELECT\n",
    "\t\tdata_final AS data_base,\n",
    "\t\t0.0 AS arrecadado,\n",
    "\t\tSUM(valor_empenhado) AS empenhado,\n",
    "\t\tSUM(valor_liquidado) AS liquidado\n",
    "\tFROM\n",
    "\t\tpad.\"BAL_DESP\"\n",
    "\tWHERE\n",
    "\t\tentidade LIKE 'pm'\n",
    "\t\tAND controle BETWEEN {controle_ano}01 AND {controle_mes}\n",
    "        AND elemento LIKE '3%%'\n",
    "\tGROUP BY\n",
    "\t\tdata_base\n",
    "\tORDER BY\n",
    "\t\tdata_base ASC\n",
    "), r AS (\n",
    "\tSELECT\n",
    "\t\tdata_final AS data_base,\n",
    "\t\tSUM(receita_realizada) AS arrecadado,\n",
    "\t\t0.0 AS empenhado,\n",
    "\t\t0.0 AS liquidado\n",
    "\tFROM\n",
    "\t\tpad.\"BAL_REC\"\n",
    "\tWHERE\n",
    "\t\tentidade LIKE 'pm'\n",
    "\t\tAND controle BETWEEN {controle_ano}01 AND {controle_mes}\n",
    "\t\tAND classe_receita NOT LIKE 'intra'\n",
    "        AND receita_base LIKE '1%%'\n",
    "\tGROUP BY\n",
    "\t\tdata_base\n",
    "\tORDER BY\n",
    "\t\tdata_base ASC\n",
    "), t AS (SELECT * FROM r UNION SELECT * FROM d)\n",
    "SELECT data_base, SUM(arrecadado) AS arrecadado, SUM(empenhado) AS empenhado, SUM(liquidado) AS liquidado FROM t GROUP BY data_base ORDER BY data_base ASC\n",
    "'''\n",
    "#print(sql)\n",
    "orcamento = sqldf(sql)\n",
    "orcamento['dif_arrec_emp'] = orcamento['empenhado'] / orcamento['arrecadado']\n",
    "orcamento['dif_arrec_liq'] = orcamento['liquidado'] / orcamento['arrecadado']\n",
    "orcamento = adiciona_data_base(orcamento)\n",
    "orcamento['data_base'] = pd.to_datetime(orcamento['data_base'], format='%Y-%m-%d')\n",
    "#orcamento"
   ]
  },
  {
   "cell_type": "code",
   "execution_count": null,
   "id": "6dac37b9-5c15-47e3-99b5-80c263d833e6",
   "metadata": {
    "tags": [
     "remove-input"
    ]
   },
   "outputs": [],
   "source": [
    "plot_acumulado(orcamento.copy(), nome)"
   ]
  },
  {
   "cell_type": "code",
   "execution_count": null,
   "id": "1c884761-bebb-4aa5-a9aa-ad494c73b250",
   "metadata": {
    "tags": [
     "remove-input"
    ]
   },
   "outputs": [],
   "source": [
    "df = df_table(orcamento.copy(), spec, fmt)\n",
    "df.style.set_caption(f'{nome} - valores acumulados - {dt.year}').hide(axis='index')\n",
    "#df"
   ]
  },
  {
   "cell_type": "markdown",
   "id": "b477bd91-c20e-41f2-8d76-c66a50c9aff7",
   "metadata": {},
   "source": [
    "## Receita Corrente x Despesa com Pessoal e Encargos Sociais"
   ]
  },
  {
   "cell_type": "code",
   "execution_count": null,
   "id": "446878fb-b599-4b2e-b8aa-e3a514b0d5b9",
   "metadata": {
    "tags": [
     "remove-input"
    ]
   },
   "outputs": [],
   "source": [
    "nome = 'Receita Corrente x Despesa com Pessoal e Encargos Sociais'\n",
    "sql = f'''\n",
    "WITH d AS (\n",
    "\tSELECT\n",
    "\t\tdata_final AS data_base,\n",
    "\t\t0.0 AS arrecadado,\n",
    "\t\tSUM(valor_empenhado) AS empenhado,\n",
    "\t\tSUM(valor_liquidado) AS liquidado\n",
    "\tFROM\n",
    "\t\tpad.\"BAL_DESP\"\n",
    "\tWHERE\n",
    "\t\tentidade LIKE 'pm'\n",
    "\t\tAND controle BETWEEN {controle_ano}01 AND {controle_mes}\n",
    "        AND elemento LIKE '31%%'\n",
    "\tGROUP BY\n",
    "\t\tdata_base\n",
    "\tORDER BY\n",
    "\t\tdata_base ASC\n",
    "), r AS (\n",
    "\tSELECT\n",
    "\t\tdata_final AS data_base,\n",
    "\t\tSUM(receita_realizada) AS arrecadado,\n",
    "\t\t0.0 AS empenhado,\n",
    "\t\t0.0 AS liquidado\n",
    "\tFROM\n",
    "\t\tpad.\"BAL_REC\"\n",
    "\tWHERE\n",
    "\t\tentidade LIKE 'pm'\n",
    "\t\tAND controle BETWEEN {controle_ano}01 AND {controle_mes}\n",
    "\t\tAND classe_receita NOT LIKE 'intra'\n",
    "        AND receita_base LIKE '1%%'\n",
    "\tGROUP BY\n",
    "\t\tdata_base\n",
    "\tORDER BY\n",
    "\t\tdata_base ASC\n",
    "), t AS (SELECT * FROM r UNION SELECT * FROM d)\n",
    "SELECT data_base, SUM(arrecadado) AS arrecadado, SUM(empenhado) AS empenhado, SUM(liquidado) AS liquidado FROM t GROUP BY data_base ORDER BY data_base ASC\n",
    "'''\n",
    "#print(sql)\n",
    "orcamento = sqldf(sql)\n",
    "orcamento['dif_arrec_emp'] = orcamento['empenhado'] / orcamento['arrecadado']\n",
    "orcamento['dif_arrec_liq'] = orcamento['liquidado'] / orcamento['arrecadado']\n",
    "orcamento = adiciona_data_base(orcamento)\n",
    "orcamento['data_base'] = pd.to_datetime(orcamento['data_base'], format='%Y-%m-%d')\n",
    "#orcamento"
   ]
  },
  {
   "cell_type": "code",
   "execution_count": null,
   "id": "3519abbd-ebe3-4eca-9d4f-914f848c50cf",
   "metadata": {
    "tags": [
     "remove-input"
    ]
   },
   "outputs": [],
   "source": [
    "plot_acumulado(orcamento.copy(), nome)"
   ]
  },
  {
   "cell_type": "code",
   "execution_count": null,
   "id": "5e4f2d50-a91c-46b9-8074-d1875632614c",
   "metadata": {
    "tags": [
     "remove-input"
    ]
   },
   "outputs": [],
   "source": [
    "df = df_table(orcamento.copy(), spec, fmt)\n",
    "df.style.set_caption(f'{nome} - valores acumulados - {dt.year}').hide(axis='index')\n",
    "#df"
   ]
  },
  {
   "cell_type": "markdown",
   "id": "a1f7c438-0a2d-4a61-9308-35391760e2c5",
   "metadata": {},
   "source": [
    "## Suplementação Autorizada na LOA"
   ]
  },
  {
   "cell_type": "code",
   "execution_count": null,
   "id": "8d890366-ad31-4c7f-838c-cfe71d9c79db",
   "metadata": {
    "tags": [
     "remove-input"
    ]
   },
   "outputs": [],
   "source": [
    "nome = 'Suplementação Autorizada na LOA'\n",
    "sql = f'''\n",
    "WITH disponivel AS (\n",
    "\tSELECT\n",
    "\t\tdata_final AS data_base,\n",
    "\t\tSUM(saldo_final) AS vldisponivel,\n",
    "\t\t0.0 AS vlutilizado\n",
    "\tFROM\n",
    "\t\tpad.\"BAL_VER\"\n",
    "\tWHERE\n",
    "\t\tentidade LIKE 'pm'\n",
    "\t\tAND controle BETWEEN {controle_ano}01 AND {controle_ano}12\n",
    "\t\tAND conta_contabil LIKE '899940101%%'\n",
    "\tGROUP BY\n",
    "\t\tdata_base\n",
    "\tORDER BY\n",
    "\t\tdata_base ASC\n",
    "), utilizado AS (\n",
    "\tSELECT\n",
    "\t\tdata_final AS data_base,\n",
    "\t\t0.0 AS vldisponivel,\n",
    "\t\tSUM(saldo_final) AS vlutilizado\n",
    "\tFROM\n",
    "\t\tpad.\"BAL_VER\"\n",
    "\tWHERE\n",
    "\t\tentidade LIKE 'pm'\n",
    "\t\tAND controle BETWEEN {controle_ano}01 AND {controle_ano}12\n",
    "\t\tAND conta_contabil LIKE '899940102%%'\n",
    "\tGROUP BY\n",
    "\t\tdata_base\n",
    "\tORDER BY\n",
    "\t\tdata_base ASC\n",
    "), total AS (\n",
    "\tSELECT * FROM disponivel UNION ALL SELECT * FROM utilizado\n",
    ")\n",
    "SELECT\n",
    "\tdata_base,\n",
    "\tSUM(vldisponivel) AS disponivel,\n",
    "\tSUM(vlutilizado) AS utilizado,\n",
    "\t(SUM(vldisponivel) + SUM(vlutilizado)) AS total\n",
    "FROM total\n",
    "GROUP BY data_base\n",
    "ORDER BY data_base ASC;'''\n",
    "#print(sql)\n",
    "\n",
    "limite = sqldf(sql)\n",
    "limite = adiciona_data_base(limite)\n",
    "limite['data_base'] = pd.to_datetime(limite['data_base'], format='%Y-%m-%d')\n",
    "limite_atual = limite[limite['data_base'] == dt]['total'].sum()\n",
    "limite['total'] = limite['total'].fillna(limite_atual)\n",
    "limite['vl_esperado'] = None\n",
    "limite['perc_esperado'] = None\n",
    "limite['perc_utilizado'] = None\n",
    "for i, r in limite.iterrows():\n",
    "    mes = r['data_base'].month\n",
    "    fracao_limite = round(r['total'] / 12 * mes)\n",
    "    perc_fracao_limite = fracao_limite / r['total'] * limite_suplementacao_loa\n",
    "    limite.at[i, 'vl_esperado'] = fracao_limite\n",
    "    limite.at[i, 'perc_esperado'] = perc_fracao_limite\n",
    "    limite.at[i, 'perc_utilizado'] = r['utilizado'] / r['total'] * limite_suplementacao_loa\n",
    "#limite"
   ]
  },
  {
   "cell_type": "code",
   "execution_count": null,
   "id": "30c6dc8c-e203-4535-9735-d1a095699912",
   "metadata": {
    "tags": [
     "remove-input"
    ]
   },
   "outputs": [],
   "source": [
    "df = limite.copy()\n",
    "fig, ax = plt.subplots(figsize=figsize)\n",
    "fig.suptitle(nome, x=0, fontsize=16)\n",
    "x = df['data_base'].dt.strftime('%b')\n",
    "plt.plot(x, df['total'], color=cgrey, label='Autorizado', linestyle='--')\n",
    "plt.plot(x, df['vl_esperado'], color=corange, label='Esperado')\n",
    "plt.bar(x, df['disponivel'], color=cgreen, label='Disponível')\n",
    "plt.bar(x, df['utilizado'], color=cblue, label='Utilizado')\n",
    "plt.ylim(bottom=0, top=ax.get_ylim()[1] * 1.2)\n",
    "ax.yaxis.set_major_formatter(int_formatter)\n",
    "plt.xticks(x)\n",
    "plt.legend(loc='upper right', ncol=3)\n",
    "plt.show()\n"
   ]
  },
  {
   "cell_type": "code",
   "execution_count": null,
   "id": "d8a6071e-71bc-4080-a596-fe4f52603017",
   "metadata": {
    "tags": [
     "remove-input"
    ]
   },
   "outputs": [],
   "source": [
    "lspec = {\n",
    "    'data_base': 'Mês',\n",
    "    'total': 'Autorizado',\n",
    "    'utilizado': 'Utilizado',\n",
    "    'disponivel': 'Disponível',\n",
    "    'perc_esperado': '% esperado',\n",
    "    'perc_utilizado': '% utilizado'\n",
    "}\n",
    "lfmt = {\n",
    "    'data_base': date_to_month_name,\n",
    "    'total': money_formatter,\n",
    "    'utilizado': money_formatter,\n",
    "    'disponivel': money_formatter,\n",
    "    'perc_esperado': perc2_formatter,\n",
    "    'perc_utilizado': perc2_formatter\n",
    "}\n",
    "df = df_table(limite.copy(), lspec, lfmt)\n",
    "df.style.set_caption(f'{nome} - {dt.year}').hide(axis='index')"
   ]
  }
 ],
 "metadata": {
  "kernelspec": {
   "display_name": "Python 3 (ipykernel)",
   "language": "python",
   "name": "python3"
  },
  "language_info": {
   "codemirror_mode": {
    "name": "ipython",
    "version": 3
   },
   "file_extension": ".py",
   "mimetype": "text/x-python",
   "name": "python",
   "nbconvert_exporter": "python",
   "pygments_lexer": "ipython3",
   "version": "3.11.3"
  }
 },
 "nbformat": 4,
 "nbformat_minor": 5
}
