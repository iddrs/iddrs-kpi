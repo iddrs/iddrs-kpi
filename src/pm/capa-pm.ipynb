{
 "cells": [
  {
   "cell_type": "code",
   "execution_count": 13,
   "id": "b1ac89a7-40ef-432e-a804-2b0e531353f9",
   "metadata": {
    "tags": [
     "remove-input"
    ]
   },
   "outputs": [],
   "source": [
    "from IPython.display import display, Markdown"
   ]
  },
  {
   "cell_type": "code",
   "execution_count": 8,
   "id": "8fc66e54-9926-49c5-b008-0574eb9eb5ec",
   "metadata": {
    "tags": [
     "remove-input"
    ]
   },
   "outputs": [],
   "source": [
    "%run ../database.py"
   ]
  },
  {
   "cell_type": "markdown",
   "id": "370c5296-a742-4ae4-87d5-5333cbc377a9",
   "metadata": {},
   "source": [
    "# Indicadores mensais\n",
    "\n",
    "## Prefeitura"
   ]
  },
  {
   "cell_type": "code",
   "execution_count": 16,
   "id": "a73f64c6-b492-4d84-aeb6-987662785191",
   "metadata": {
    "tags": [
     "remove-input"
    ]
   },
   "outputs": [
    {
     "data": {
      "text/markdown": [
       "\n",
       "## ABRIL DE 2023\n",
       "---\n"
      ],
      "text/plain": [
       "<IPython.core.display.Markdown object>"
      ]
     },
     "metadata": {},
     "output_type": "display_data"
    }
   ],
   "source": [
    "periodo = dt.strftime('%B de %Y').upper()\n",
    "string = f'''\n",
    "## {periodo}\n",
    "---\n",
    "'''\n",
    "display(Markdown(string))"
   ]
  }
 ],
 "metadata": {
  "kernelspec": {
   "display_name": "Python 3 (ipykernel)",
   "language": "python",
   "name": "python3"
  },
  "language_info": {
   "codemirror_mode": {
    "name": "ipython",
    "version": 3
   },
   "file_extension": ".py",
   "mimetype": "text/x-python",
   "name": "python",
   "nbconvert_exporter": "python",
   "pygments_lexer": "ipython3",
   "version": "3.11.3"
  }
 },
 "nbformat": 4,
 "nbformat_minor": 5
}
