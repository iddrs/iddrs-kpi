{
 "cells": [
  {
   "cell_type": "code",
   "execution_count": 1,
   "id": "dae0b38a-980b-4b27-a689-d14c1b8097ed",
   "metadata": {
    "tags": [
     "remove-input"
    ]
   },
   "outputs": [],
   "source": [
    "from IPython.display import display, Markdown\n",
    "%cd -q pm\n",
    "%run ../database.py\n",
    "%cd -q .."
   ]
  },
  {
   "cell_type": "code",
   "execution_count": 2,
   "id": "4277d3d0-848e-4960-b363-355be2eab677",
   "metadata": {
    "tags": [
     "remove-input"
    ]
   },
   "outputs": [
    {
     "data": {
      "text/markdown": [
       "\n",
       "# Painel de Indicadores\n",
       "\n",
       "## ABRIL DE 2023\n",
       "---\n"
      ],
      "text/plain": [
       "<IPython.core.display.Markdown object>"
      ]
     },
     "metadata": {},
     "output_type": "display_data"
    }
   ],
   "source": [
    "periodo = dt.strftime('%B de %Y').upper()\n",
    "string = f'''\n",
    "# Painel de Indicadores\n",
    "\n",
    "## {periodo}\n",
    "---\n",
    "'''\n",
    "display(Markdown(string))\n"
   ]
  },
  {
   "cell_type": "markdown",
   "id": "d8169b89-2365-43af-a71d-f0ee213b16c6",
   "metadata": {},
   "source": [
    "### Prefeitura\n",
    "\n",
    "::::{grid}\n",
    "\n",
    ":::{grid-item}\n",
    "````{card} Card 1 title\n",
    "\n",
    "Card header 1\n",
    "^^^\n",
    "Card body 1\n",
    "+++\n",
    "Card footer 1\n",
    "````\n",
    ":::\n",
    "\n",
    ":::{grid-item}\n",
    "````{card} Card 1 title\n",
    "\n",
    "Card header 1\n",
    "^^^\n",
    "Card body 1\n",
    "+++\n",
    "Card footer 1\n",
    "````\n",
    ":::\n",
    "\n",
    ":::{grid-item}\n",
    "````{card} Card 1 title\n",
    "\n",
    "Card header 1\n",
    "^^^\n",
    "Card body 1\n",
    "+++\n",
    "Card footer 1\n",
    "````\n",
    ":::\n",
    "\n",
    ":::{grid-item}\n",
    "````{card} Card 1 title\n",
    "\n",
    "Card header 1\n",
    "^^^\n",
    "Card body 1\n",
    "+++\n",
    "Card footer 1\n",
    "````\n",
    ":::\n",
    "\n",
    "::::"
   ]
  },
  {
   "cell_type": "markdown",
   "id": "77351944-8f2b-4902-916b-bd78502a8bf5",
   "metadata": {},
   "source": [
    "### Câmara\n",
    "\n",
    "::::{grid}\n",
    "\n",
    ":::{grid-item}\n",
    "````{card} Card 1 title\n",
    "\n",
    "Card header 1\n",
    "^^^\n",
    "Card body 1\n",
    "+++\n",
    "Card footer 1\n",
    "````\n",
    ":::\n",
    "\n",
    ":::{grid-item}\n",
    "````{card} Card 1 title\n",
    "\n",
    "Card header 1\n",
    "^^^\n",
    "Card body 1\n",
    "+++\n",
    "Card footer 1\n",
    "````\n",
    ":::\n",
    "\n",
    ":::{grid-item}\n",
    "````{card} Card 1 title\n",
    "\n",
    "Card header 1\n",
    "^^^\n",
    "Card body 1\n",
    "+++\n",
    "Card footer 1\n",
    "````\n",
    ":::\n",
    "\n",
    ":::{grid-item}\n",
    "````{card} Card 1 title\n",
    "\n",
    "Card header 1\n",
    "^^^\n",
    "Card body 1\n",
    "+++\n",
    "Card footer 1\n",
    "````\n",
    ":::\n",
    "\n",
    "::::"
   ]
  },
  {
   "cell_type": "markdown",
   "id": "dc105d60-01c3-49c7-acb4-aecb42777dcb",
   "metadata": {},
   "source": [
    "### RPPS\n",
    "\n",
    "::::{grid}\n",
    "\n",
    ":::{grid-item}\n",
    "````{card} Card 1 title\n",
    "\n",
    "Card header 1\n",
    "^^^\n",
    "Card body 1\n",
    "+++\n",
    "Card footer 1\n",
    "````\n",
    ":::\n",
    "\n",
    ":::{grid-item}\n",
    "````{card} Card 1 title\n",
    "\n",
    "Card header 1\n",
    "^^^\n",
    "Card body 1\n",
    "+++\n",
    "Card footer 1\n",
    "````\n",
    ":::\n",
    "\n",
    ":::{grid-item}\n",
    "````{card} Card 1 title\n",
    "\n",
    "Card header 1\n",
    "^^^\n",
    "Card body 1\n",
    "+++\n",
    "Card footer 1\n",
    "````\n",
    ":::\n",
    "\n",
    ":::{grid-item}\n",
    "````{card} Card 1 title\n",
    "\n",
    "Card header 1\n",
    "^^^\n",
    "Card body 1\n",
    "+++\n",
    "Card footer 1\n",
    "````\n",
    ":::\n",
    "\n",
    "::::"
   ]
  }
 ],
 "metadata": {
  "kernelspec": {
   "display_name": "Python 3 (ipykernel)",
   "language": "python",
   "name": "python3"
  },
  "language_info": {
   "codemirror_mode": {
    "name": "ipython",
    "version": 3
   },
   "file_extension": ".py",
   "mimetype": "text/x-python",
   "name": "python",
   "nbconvert_exporter": "python",
   "pygments_lexer": "ipython3",
   "version": "3.11.3"
  }
 },
 "nbformat": 4,
 "nbformat_minor": 5
}