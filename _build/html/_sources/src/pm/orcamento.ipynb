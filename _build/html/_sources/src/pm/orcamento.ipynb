{
 "cells": [
  {
   "cell_type": "code",
   "execution_count": null,
   "id": "50b601f7-2b8d-4b57-a89f-ebb70927719a",
   "metadata": {
    "tags": [
     "remove-input"
    ]
   },
   "outputs": [],
   "source": [
    "import pandas as pd\n",
    "import matplotlib.pyplot as plt\n",
    "from matplotlib.ticker import FuncFormatter\n",
    "import numpy as np\n",
    "import calendar\n",
    "from datetime import date\n",
    "\n",
    "%run ../db.py\n",
    "%run ../database.py\n",
    "%run ../utils.py\n"
   ]
  },
  {
   "cell_type": "code",
   "execution_count": null,
   "id": "09daea6b-4c7a-41b7-b5f0-a9921ce92010",
   "metadata": {
    "tags": [
     "remove-input"
    ]
   },
   "outputs": [],
   "source": [
    "cgreen = '#27ae60'\n",
    "cblue = '#2980b9'\n",
    "cred = '#c0392b'\n",
    "corange = '#d35400'\n",
    "cgrey = '#7f8c8d'\n",
    "cdark = '#2c3e50'\n",
    "cwithe = '#ecf0f1'\n",
    "\n",
    "figsize = (10, 6)\n",
    "\n",
    "limite_suplementacao_loa = 0.15"
   ]
  },
  {
   "cell_type": "code",
   "execution_count": null,
   "id": "20e5a08c-b2cd-44ba-a8a0-d0187f0f9901",
   "metadata": {
    "tags": [
     "remove-input"
    ]
   },
   "outputs": [],
   "source": [
    "spec = {\n",
    "    'data_base': 'Mês',\n",
    "    'arrecadado': 'Arrecadado',\n",
    "    'empenhado': 'Empenhado',\n",
    "    'liquidado': 'Liquidado',\n",
    "    'dif_arrec_emp': 'Empenhado / Arrecadado',\n",
    "    'dif_arrec_liq': 'Liquidado / Arrecadado'\n",
    "}\n",
    "fmt = {\n",
    "    'data_base': date_to_month_name,\n",
    "    'arrecadado': money_formatter,\n",
    "    'empenhado': money_formatter,\n",
    "    'liquidado': money_formatter,\n",
    "    'dif_arrec_emp': perc0_formatter,\n",
    "    'dif_arrec_liq': perc0_formatter\n",
    "}"
   ]
  },
  {
   "cell_type": "code",
   "execution_count": null,
   "id": "4c625981-0930-4d77-82ac-b5d91c9f0ab4",
   "metadata": {
    "tags": [
     "remove-input"
    ]
   },
   "outputs": [],
   "source": [
    "def plot_acumulado(df, titulo):\n",
    "    fig, ax = plt.subplots(figsize=figsize)\n",
    "    fig.suptitle(titulo, x=0, fontsize=16)\n",
    "    plt.title('valores acumulados', x=0)\n",
    "    x = df['data_base'].dt.strftime('%b')\n",
    "    plt.plot(x, df['arrecadado'], color=cgreen, label='Arrecadado', marker='o')\n",
    "    plt.plot(x, df['empenhado'], color=cred, label='Empenhado', marker='s')\n",
    "    plt.plot(x, df['liquidado'], color=corange, label='Liquidado', marker='^')\n",
    "    plt.ylim(bottom=0)\n",
    "    ax.yaxis.set_major_formatter(int_formatter)\n",
    "    plt.xticks(x)\n",
    "    plt.legend(loc='best', ncol=3)\n",
    "    plt.show()\n",
    "\n",
    "def adiciona_data_base(df):\n",
    "    last_day_of_month = []\n",
    "    for month in range(df['data_base'].max().month + 1, 13):\n",
    "        last_day_of_month.append(date(df['data_base'].max().year, month, calendar.monthrange(df['data_base'].max().year, month)[1]))\n",
    "    for dt in last_day_of_month:\n",
    "        n = pd.DataFrame([{'data_base': dt}])\n",
    "        df = pd.concat([df, n])\n",
    "    df = df.reset_index(drop=True)\n",
    "    return df\n"
   ]
  },
  {
   "cell_type": "markdown",
   "id": "d038977a-ec0f-4686-b811-c5809cf7aa3e",
   "metadata": {},
   "source": [
    "# Receitas x Despesas\n",
    "\n",
    "Nesta parte são copmradas as receitas e despesas da **Prefeitura**, excluídas, portanto, as receias do *RPPS*. Também são excluídas as receitas *intra-orçamentárias*.\n",
    "\n",
    "As receitas são apresentadas em seus valores líquidos das deduções da receita."
   ]
  },
  {
   "cell_type": "markdown",
   "id": "b8f48b2c-86ac-451b-9f86-d5b8146dee0e",
   "metadata": {},
   "source": [
    "## Receita Total x Despesa Total"
   ]
  },
  {
   "cell_type": "code",
   "execution_count": null,
   "id": "f885df7d-155a-4e94-8bfe-d43ba444de01",
   "metadata": {
    "tags": [
     "remove-input"
    ]
   },
   "outputs": [],
   "source": [
    "nome = 'Receita Total x Despesa Total'\n",
    "sql = f'''\n",
    "WITH d AS (\n",
    "\tSELECT\n",
    "\t\tdata_final AS data_base,\n",
    "\t\t0.0 AS arrecadado,\n",
    "\t\tSUM(valor_empenhado) AS empenhado,\n",
    "\t\tSUM(valor_liquidado) AS liquidado\n",
    "\tFROM\n",
    "\t\tpad.\"BAL_DESP\"\n",
    "\tWHERE\n",
    "\t\tentidade LIKE 'pm'\n",
    "\t\tAND controle BETWEEN {controle_ano}01 AND {controle_mes}\n",
    "\tGROUP BY\n",
    "\t\tdata_base\n",
    "\tORDER BY\n",
    "\t\tdata_base ASC\n",
    "), r AS (\n",
    "\tSELECT\n",
    "\t\tdata_final AS data_base,\n",
    "\t\tSUM(receita_realizada) AS arrecadado,\n",
    "\t\t0.0 AS empenhado,\n",
    "\t\t0.0 AS liquidado\n",
    "\tFROM\n",
    "\t\tpad.\"BAL_REC\"\n",
    "\tWHERE\n",
    "\t\tentidade LIKE 'pm'\n",
    "\t\tAND controle BETWEEN {controle_ano}01 AND {controle_mes}\n",
    "\t\tAND classe_receita NOT LIKE 'intra'\n",
    "\tGROUP BY\n",
    "\t\tdata_base\n",
    "\tORDER BY\n",
    "\t\tdata_base ASC\n",
    "), t AS (SELECT * FROM r UNION SELECT * FROM d)\n",
    "SELECT data_base, SUM(arrecadado) AS arrecadado, SUM(empenhado) AS empenhado, SUM(liquidado) AS liquidado FROM t GROUP BY data_base ORDER BY data_base ASC\n",
    "'''\n",
    "#print(sql)\n",
    "orcamento = sqldf(sql)\n",
    "orcamento['dif_arrec_emp'] = orcamento['empenhado'] / orcamento['arrecadado']\n",
    "orcamento['dif_arrec_liq'] = orcamento['liquidado'] / orcamento['arrecadado']\n",
    "orcamento = adiciona_data_base(orcamento)\n",
    "orcamento['data_base'] = pd.to_datetime(orcamento['data_base'], format='%Y-%m-%d')\n",
    "#orcamento"
   ]
  },
  {
   "cell_type": "code",
   "execution_count": null,
   "id": "61934c32-a212-4a60-98e7-a3e66b02219c",
   "metadata": {
    "tags": [
     "remove-input"
    ]
   },
   "outputs": [],
   "source": [
    "plot_acumulado(orcamento.copy(), nome)"
   ]
  },
  {
   "cell_type": "code",
   "execution_count": null,
   "id": "0b92bd20-7059-4d64-9958-3b19d3923b0e",
   "metadata": {
    "tags": [
     "remove-input"
    ]
   },
   "outputs": [],
   "source": [
    "df = df_table(orcamento.copy(), spec, fmt)\n",
    "df.style.set_caption(f'{nome} - valores acumulados - {dt.year}').hide(axis='index')\n",
    "#df"
   ]
  },
  {
   "cell_type": "markdown",
   "id": "26e371c5-875f-4adb-88cc-2ca301e56340",
   "metadata": {},
   "source": [
    "## Receita Corrente x Despesa Corrente"
   ]
  },
  {
   "cell_type": "code",
   "execution_count": null,
   "id": "3dab34ba-eeb1-4df1-9e61-c9b9bb8faaee",
   "metadata": {
    "tags": [
     "remove-input"
    ]
   },
   "outputs": [],
   "source": [
    "nome = 'Receita Corrente x Despesa Corrente'\n",
    "sql = f'''\n",
    "WITH d AS (\n",
    "\tSELECT\n",
    "\t\tdata_final AS data_base,\n",
    "\t\t0.0 AS arrecadado,\n",
    "\t\tSUM(valor_empenhado) AS empenhado,\n",
    "\t\tSUM(valor_liquidado) AS liquidado\n",
    "\tFROM\n",
    "\t\tpad.\"BAL_DESP\"\n",
    "\tWHERE\n",
    "\t\tentidade LIKE 'pm'\n",
    "\t\tAND controle BETWEEN {controle_ano}01 AND {controle_mes}\n",
    "        AND elemento LIKE '3%%'\n",
    "\tGROUP BY\n",
    "\t\tdata_base\n",
    "\tORDER BY\n",
    "\t\tdata_base ASC\n",
    "), r AS (\n",
    "\tSELECT\n",
    "\t\tdata_final AS data_base,\n",
    "\t\tSUM(receita_realizada) AS arrecadado,\n",
    "\t\t0.0 AS empenhado,\n",
    "\t\t0.0 AS liquidado\n",
    "\tFROM\n",
    "\t\tpad.\"BAL_REC\"\n",
    "\tWHERE\n",
    "\t\tentidade LIKE 'pm'\n",
    "\t\tAND controle BETWEEN {controle_ano}01 AND {controle_mes}\n",
    "\t\tAND classe_receita NOT LIKE 'intra'\n",
    "        AND receita_base LIKE '1%%'\n",
    "\tGROUP BY\n",
    "\t\tdata_base\n",
    "\tORDER BY\n",
    "\t\tdata_base ASC\n",
    "), t AS (SELECT * FROM r UNION SELECT * FROM d)\n",
    "SELECT data_base, SUM(arrecadado) AS arrecadado, SUM(empenhado) AS empenhado, SUM(liquidado) AS liquidado FROM t GROUP BY data_base ORDER BY data_base ASC\n",
    "'''\n",
    "#print(sql)\n",
    "orcamento = sqldf(sql)\n",
    "orcamento['dif_arrec_emp'] = orcamento['empenhado'] / orcamento['arrecadado']\n",
    "orcamento['dif_arrec_liq'] = orcamento['liquidado'] / orcamento['arrecadado']\n",
    "orcamento = adiciona_data_base(orcamento)\n",
    "orcamento['data_base'] = pd.to_datetime(orcamento['data_base'], format='%Y-%m-%d')\n",
    "#orcamento"
   ]
  },
  {
   "cell_type": "code",
   "execution_count": null,
   "id": "6dac37b9-5c15-47e3-99b5-80c263d833e6",
   "metadata": {
    "tags": [
     "remove-input"
    ]
   },
   "outputs": [],
   "source": [
    "plot_acumulado(orcamento.copy(), nome)"
   ]
  },
  {
   "cell_type": "code",
   "execution_count": null,
   "id": "1c884761-bebb-4aa5-a9aa-ad494c73b250",
   "metadata": {
    "tags": [
     "remove-input"
    ]
   },
   "outputs": [],
   "source": [
    "df = df_table(orcamento.copy(), spec, fmt)\n",
    "df.style.set_caption(f'{nome} - valores acumulados - {dt.year}').hide(axis='index')\n",
    "#df"
   ]
  },
  {
   "cell_type": "markdown",
   "id": "b477bd91-c20e-41f2-8d76-c66a50c9aff7",
   "metadata": {},
   "source": [
    "## Receita Corrente x Despesa com Pessoal e Encargos Sociais"
   ]
  },
  {
   "cell_type": "code",
   "execution_count": null,
   "id": "446878fb-b599-4b2e-b8aa-e3a514b0d5b9",
   "metadata": {
    "tags": [
     "remove-input"
    ]
   },
   "outputs": [],
   "source": [
    "nome = 'Receita Corrente x Despesa com Pessoal e Encargos Sociais'\n",
    "sql = f'''\n",
    "WITH d AS (\n",
    "\tSELECT\n",
    "\t\tdata_final AS data_base,\n",
    "\t\t0.0 AS arrecadado,\n",
    "\t\tSUM(valor_empenhado) AS empenhado,\n",
    "\t\tSUM(valor_liquidado) AS liquidado\n",
    "\tFROM\n",
    "\t\tpad.\"BAL_DESP\"\n",
    "\tWHERE\n",
    "\t\tentidade LIKE 'pm'\n",
    "\t\tAND controle BETWEEN {controle_ano}01 AND {controle_mes}\n",
    "        AND elemento LIKE '31%%'\n",
    "\tGROUP BY\n",
    "\t\tdata_base\n",
    "\tORDER BY\n",
    "\t\tdata_base ASC\n",
    "), r AS (\n",
    "\tSELECT\n",
    "\t\tdata_final AS data_base,\n",
    "\t\tSUM(receita_realizada) AS arrecadado,\n",
    "\t\t0.0 AS empenhado,\n",
    "\t\t0.0 AS liquidado\n",
    "\tFROM\n",
    "\t\tpad.\"BAL_REC\"\n",
    "\tWHERE\n",
    "\t\tentidade LIKE 'pm'\n",
    "\t\tAND controle BETWEEN {controle_ano}01 AND {controle_mes}\n",
    "\t\tAND classe_receita NOT LIKE 'intra'\n",
    "        AND receita_base LIKE '1%%'\n",
    "\tGROUP BY\n",
    "\t\tdata_base\n",
    "\tORDER BY\n",
    "\t\tdata_base ASC\n",
    "), t AS (SELECT * FROM r UNION SELECT * FROM d)\n",
    "SELECT data_base, SUM(arrecadado) AS arrecadado, SUM(empenhado) AS empenhado, SUM(liquidado) AS liquidado FROM t GROUP BY data_base ORDER BY data_base ASC\n",
    "'''\n",
    "#print(sql)\n",
    "orcamento = sqldf(sql)\n",
    "orcamento['dif_arrec_emp'] = orcamento['empenhado'] / orcamento['arrecadado']\n",
    "orcamento['dif_arrec_liq'] = orcamento['liquidado'] / orcamento['arrecadado']\n",
    "orcamento = adiciona_data_base(orcamento)\n",
    "orcamento['data_base'] = pd.to_datetime(orcamento['data_base'], format='%Y-%m-%d')\n",
    "#orcamento"
   ]
  },
  {
   "cell_type": "code",
   "execution_count": null,
   "id": "3519abbd-ebe3-4eca-9d4f-914f848c50cf",
   "metadata": {
    "tags": [
     "remove-input"
    ]
   },
   "outputs": [],
   "source": [
    "plot_acumulado(orcamento.copy(), nome)"
   ]
  },
  {
   "cell_type": "code",
   "execution_count": null,
   "id": "5e4f2d50-a91c-46b9-8074-d1875632614c",
   "metadata": {
    "tags": [
     "remove-input"
    ]
   },
   "outputs": [],
   "source": [
    "df = df_table(orcamento.copy(), spec, fmt)\n",
    "df.style.set_caption(f'{nome} - valores acumulados - {dt.year}').hide(axis='index')\n",
    "#df"
   ]
  },
  {
   "cell_type": "markdown",
   "id": "a1f7c438-0a2d-4a61-9308-35391760e2c5",
   "metadata": {},
   "source": [
    "## Suplementação Autorizada na LOA"
   ]
  },
  {
   "cell_type": "code",
   "execution_count": null,
   "id": "8d890366-ad31-4c7f-838c-cfe71d9c79db",
   "metadata": {
    "tags": [
     "remove-input"
    ]
   },
   "outputs": [],
   "source": [
    "nome = 'Suplementação Autorizada na LOA'\n",
    "sql = f'''\n",
    "WITH disponivel AS (\n",
    "\tSELECT\n",
    "\t\tdata_final AS data_base,\n",
    "\t\tSUM(saldo_final) AS vldisponivel,\n",
    "\t\t0.0 AS vlutilizado\n",
    "\tFROM\n",
    "\t\tpad.\"BAL_VER\"\n",
    "\tWHERE\n",
    "\t\tentidade LIKE 'pm'\n",
    "\t\tAND controle BETWEEN {controle_ano}01 AND {controle_ano}12\n",
    "\t\tAND conta_contabil LIKE '899940101%%'\n",
    "\tGROUP BY\n",
    "\t\tdata_base\n",
    "\tORDER BY\n",
    "\t\tdata_base ASC\n",
    "), utilizado AS (\n",
    "\tSELECT\n",
    "\t\tdata_final AS data_base,\n",
    "\t\t0.0 AS vldisponivel,\n",
    "\t\tSUM(saldo_final) AS vlutilizado\n",
    "\tFROM\n",
    "\t\tpad.\"BAL_VER\"\n",
    "\tWHERE\n",
    "\t\tentidade LIKE 'pm'\n",
    "\t\tAND controle BETWEEN {controle_ano}01 AND {controle_ano}12\n",
    "\t\tAND conta_contabil LIKE '899940102%%'\n",
    "\tGROUP BY\n",
    "\t\tdata_base\n",
    "\tORDER BY\n",
    "\t\tdata_base ASC\n",
    "), total AS (\n",
    "\tSELECT * FROM disponivel UNION ALL SELECT * FROM utilizado\n",
    ")\n",
    "SELECT\n",
    "\tdata_base,\n",
    "\tSUM(vldisponivel) AS disponivel,\n",
    "\tSUM(vlutilizado) AS utilizado,\n",
    "\t(SUM(vldisponivel) + SUM(vlutilizado)) AS total\n",
    "FROM total\n",
    "GROUP BY data_base\n",
    "ORDER BY data_base ASC;'''\n",
    "#print(sql)\n",
    "\n",
    "limite = sqldf(sql)\n",
    "limite = adiciona_data_base(limite)\n",
    "limite['data_base'] = pd.to_datetime(limite['data_base'], format='%Y-%m-%d')\n",
    "limite_atual = limite[limite['data_base'] == dt]['total'].sum()\n",
    "limite['total'] = limite['total'].fillna(limite_atual)\n",
    "limite['vl_esperado'] = None\n",
    "limite['perc_esperado'] = None\n",
    "limite['perc_utilizado'] = None\n",
    "for i, r in limite.iterrows():\n",
    "    mes = r['data_base'].month\n",
    "    fracao_limite = round(r['total'] / 12 * mes)\n",
    "    perc_fracao_limite = fracao_limite / r['total'] * limite_suplementacao_loa\n",
    "    limite.at[i, 'vl_esperado'] = fracao_limite\n",
    "    limite.at[i, 'perc_esperado'] = perc_fracao_limite\n",
    "    limite.at[i, 'perc_utilizado'] = r['utilizado'] / r['total'] * limite_suplementacao_loa\n",
    "#limite"
   ]
  },
  {
   "cell_type": "code",
   "execution_count": null,
   "id": "30c6dc8c-e203-4535-9735-d1a095699912",
   "metadata": {
    "tags": [
     "remove-input"
    ]
   },
   "outputs": [],
   "source": [
    "df = limite.copy()\n",
    "fig, ax = plt.subplots(figsize=figsize)\n",
    "fig.suptitle(nome, x=0, fontsize=16)\n",
    "x = df['data_base'].dt.strftime('%b')\n",
    "plt.plot(x, df['total'], color=cgrey, label='Autorizado', linestyle='--')\n",
    "plt.plot(x, df['vl_esperado'], color=corange, label='Esperado')\n",
    "plt.bar(x, df['disponivel'], color=cgreen, label='Disponível')\n",
    "plt.bar(x, df['utilizado'], color=cblue, label='Utilizado')\n",
    "plt.ylim(bottom=0, top=ax.get_ylim()[1] * 1.2)\n",
    "ax.yaxis.set_major_formatter(int_formatter)\n",
    "plt.xticks(x)\n",
    "plt.legend(loc='upper right', ncol=3)\n",
    "plt.show()\n"
   ]
  },
  {
   "cell_type": "code",
   "execution_count": null,
   "id": "d8a6071e-71bc-4080-a596-fe4f52603017",
   "metadata": {
    "tags": [
     "remove-input"
    ]
   },
   "outputs": [],
   "source": [
    "lspec = {\n",
    "    'data_base': 'Mês',\n",
    "    'total': 'Autorizado',\n",
    "    'utilizado': 'Utilizado',\n",
    "    'disponivel': 'Disponível',\n",
    "    'perc_esperado': '% esperado',\n",
    "    'perc_utilizado': '% utilizado'\n",
    "}\n",
    "lfmt = {\n",
    "    'data_base': date_to_month_name,\n",
    "    'total': money_formatter,\n",
    "    'utilizado': money_formatter,\n",
    "    'disponivel': money_formatter,\n",
    "    'perc_esperado': perc2_formatter,\n",
    "    'perc_utilizado': perc2_formatter\n",
    "}\n",
    "df = df_table(limite.copy(), lspec, lfmt)\n",
    "df.style.set_caption(f'{nome} - {dt.year}').hide(axis='index')"
   ]
  },
  {
   "cell_type": "markdown",
   "id": "9a24d75d-2bdd-4293-8127-f64418275e05",
   "metadata": {},
   "source": [
    "## Dotação e Execução do Orçamento"
   ]
  },
  {
   "cell_type": "markdown",
   "id": "dc9657d6-c016-47ed-b44d-9870d4212ce9",
   "metadata": {},
   "source": [
    "### Dotação e Saldos por Órgão"
   ]
  },
  {
   "cell_type": "code",
   "execution_count": 135,
   "id": "aa87c4a2-6d71-40d6-8d4e-0a85f42adc1c",
   "metadata": {
    "tags": [
     "remove-input"
    ]
   },
   "outputs": [
    {
     "data": {
      "text/html": [
       "<div>\n",
       "<style scoped>\n",
       "    .dataframe tbody tr th:only-of-type {\n",
       "        vertical-align: middle;\n",
       "    }\n",
       "\n",
       "    .dataframe tbody tr th {\n",
       "        vertical-align: top;\n",
       "    }\n",
       "\n",
       "    .dataframe thead th {\n",
       "        text-align: right;\n",
       "    }\n",
       "</style>\n",
       "<table border=\"1\" class=\"dataframe\">\n",
       "  <thead>\n",
       "    <tr style=\"text-align: right;\">\n",
       "      <th></th>\n",
       "      <th>nome_orgao</th>\n",
       "      <th>empenhado</th>\n",
       "      <th>saldo</th>\n",
       "      <th>total</th>\n",
       "      <th>perc_emp</th>\n",
       "    </tr>\n",
       "  </thead>\n",
       "  <tbody>\n",
       "    <tr>\n",
       "      <th>0</th>\n",
       "      <td>SECRETARIA DE EDUCACAO CULTURA DESPORTO E TURISMO</td>\n",
       "      <td>6013063.96</td>\n",
       "      <td>6845332.42</td>\n",
       "      <td>12858396.38</td>\n",
       "      <td>0.467637</td>\n",
       "    </tr>\n",
       "    <tr>\n",
       "      <th>1</th>\n",
       "      <td>SECRETARIA MUNICIPAL DE SAUDE</td>\n",
       "      <td>4567982.64</td>\n",
       "      <td>4113143.99</td>\n",
       "      <td>8681126.63</td>\n",
       "      <td>0.526197</td>\n",
       "    </tr>\n",
       "    <tr>\n",
       "      <th>2</th>\n",
       "      <td>SECRETARIA DE SERVICOS URBANOS E TRANSITO</td>\n",
       "      <td>1613343.80</td>\n",
       "      <td>2340545.06</td>\n",
       "      <td>3953888.86</td>\n",
       "      <td>0.408040</td>\n",
       "    </tr>\n",
       "    <tr>\n",
       "      <th>3</th>\n",
       "      <td>SECRETARIA DE OBRAS E VIACAO</td>\n",
       "      <td>1752573.21</td>\n",
       "      <td>1605068.77</td>\n",
       "      <td>3357641.98</td>\n",
       "      <td>0.521965</td>\n",
       "    </tr>\n",
       "    <tr>\n",
       "      <th>4</th>\n",
       "      <td>SECRETARIA DA AGRICULTURA E ABASTECIMENTO</td>\n",
       "      <td>1148862.08</td>\n",
       "      <td>1092818.14</td>\n",
       "      <td>2241680.22</td>\n",
       "      <td>0.512500</td>\n",
       "    </tr>\n",
       "    <tr>\n",
       "      <th>5</th>\n",
       "      <td>SECRETARIA DA FAZENDA</td>\n",
       "      <td>685575.74</td>\n",
       "      <td>1172731.26</td>\n",
       "      <td>1858307.00</td>\n",
       "      <td>0.368925</td>\n",
       "    </tr>\n",
       "    <tr>\n",
       "      <th>6</th>\n",
       "      <td>SECRETARIA DA ASSISTENCIA SOCIAL</td>\n",
       "      <td>695750.20</td>\n",
       "      <td>1117995.61</td>\n",
       "      <td>1813745.81</td>\n",
       "      <td>0.383599</td>\n",
       "    </tr>\n",
       "    <tr>\n",
       "      <th>7</th>\n",
       "      <td>SECRETARIA DE ADMINISTRACAO</td>\n",
       "      <td>640983.03</td>\n",
       "      <td>1084881.97</td>\n",
       "      <td>1725865.00</td>\n",
       "      <td>0.371398</td>\n",
       "    </tr>\n",
       "    <tr>\n",
       "      <th>8</th>\n",
       "      <td>GABINETE DO PREFEITO E VICE PREFEITO</td>\n",
       "      <td>666845.02</td>\n",
       "      <td>456314.98</td>\n",
       "      <td>1123160.00</td>\n",
       "      <td>0.593722</td>\n",
       "    </tr>\n",
       "    <tr>\n",
       "      <th>9</th>\n",
       "      <td>ENCARGOS ESPECIAIS</td>\n",
       "      <td>709661.09</td>\n",
       "      <td>307629.85</td>\n",
       "      <td>1017290.94</td>\n",
       "      <td>0.697599</td>\n",
       "    </tr>\n",
       "  </tbody>\n",
       "</table>\n",
       "</div>"
      ],
      "text/plain": [
       "                                          nome_orgao   empenhado       saldo  \\\n",
       "0  SECRETARIA DE EDUCACAO CULTURA DESPORTO E TURISMO  6013063.96  6845332.42   \n",
       "1                      SECRETARIA MUNICIPAL DE SAUDE  4567982.64  4113143.99   \n",
       "2          SECRETARIA DE SERVICOS URBANOS E TRANSITO  1613343.80  2340545.06   \n",
       "3                       SECRETARIA DE OBRAS E VIACAO  1752573.21  1605068.77   \n",
       "4          SECRETARIA DA AGRICULTURA E ABASTECIMENTO  1148862.08  1092818.14   \n",
       "5                              SECRETARIA DA FAZENDA   685575.74  1172731.26   \n",
       "6                   SECRETARIA DA ASSISTENCIA SOCIAL   695750.20  1117995.61   \n",
       "7                        SECRETARIA DE ADMINISTRACAO   640983.03  1084881.97   \n",
       "8               GABINETE DO PREFEITO E VICE PREFEITO   666845.02   456314.98   \n",
       "9                                 ENCARGOS ESPECIAIS   709661.09   307629.85   \n",
       "\n",
       "         total  perc_emp  \n",
       "0  12858396.38  0.467637  \n",
       "1   8681126.63  0.526197  \n",
       "2   3953888.86  0.408040  \n",
       "3   3357641.98  0.521965  \n",
       "4   2241680.22  0.512500  \n",
       "5   1858307.00  0.368925  \n",
       "6   1813745.81  0.383599  \n",
       "7   1725865.00  0.371398  \n",
       "8   1123160.00  0.593722  \n",
       "9   1017290.94  0.697599  "
      ]
     },
     "execution_count": 135,
     "metadata": {},
     "output_type": "execute_result"
    }
   ],
   "source": [
    "nome = 'Dotação e Saldos por Órgão'\n",
    "sql = f'''\n",
    "SELECT\n",
    "\tnome_orgao,\n",
    "\tSUM(valor_empenhado) AS empenhado,\n",
    "\tSUM(dotacao_a_empenhar) AS saldo\n",
    "FROM\n",
    "\tpad.\"BAL_DESP\"\n",
    "WHERE\n",
    "\tentidade LIKE 'pm'\n",
    "\tAND controle = {controle_mes}\n",
    "GROUP BY\n",
    "\tnome_orgao\n",
    "ORDER BY\n",
    "\t(SUM(valor_empenhado) + SUM(dotacao_a_empenhar)) DESC;'''\n",
    "#print(sql)\n",
    "\n",
    "orcamento = sqldf(sql)\n",
    "orcamento['total'] = orcamento['empenhado'] + orcamento['saldo']\n",
    "orcamento['perc_emp'] = orcamento['empenhado'] / orcamento['total']\n",
    "#orcamento"
   ]
  },
  {
   "cell_type": "code",
   "execution_count": 131,
   "id": "b8299d48-7e90-42c3-9d64-dbf60da966b4",
   "metadata": {
    "tags": [
     "remove-input"
    ]
   },
   "outputs": [
    {
     "data": {
      "image/png": "[encoded data removed]",
      "text/plain": [
       "<Figure size 640x480 with 1 Axes>"
      ]
     },
     "metadata": {},
     "output_type": "display_data"
    }
   ],
   "source": [
    "fig, ax = plt.subplots()\n",
    "fig.suptitle(nome, x=0, fontsize=16)\n",
    "plt.title('% empenhado | dotação total', x=0)\n",
    "orgaos = orcamento['nome_orgao']\n",
    "ax.barh(orgaos, orcamento['total'], color=cgreen, label='Disponível')\n",
    "ax.barh(orgaos, orcamento['empenhado'], color=cblue, label='Empenhado')\n",
    "ax.invert_yaxis()\n",
    "for i, v in enumerate(orcamento['total']):\n",
    "    ax.text(v + 3, i + 0.25, money_formatter(v), color=cdark)\n",
    "    \n",
    "for i, v in enumerate(orcamento['perc_emp']):\n",
    "    ax.text(v, i, perc0_formatter(v), color='w')\n",
    "\n",
    "ax.set_xticks([])\n",
    "ax.set_frame_on(False)\n",
    "plt.legend(loc='lower right', ncol=2)\n",
    "plt.show()"
   ]
  },
  {
   "cell_type": "code",
   "execution_count": 136,
   "id": "6322070a-e3b1-4f20-a7a6-13d6051f7148",
   "metadata": {
    "tags": [
     "remove-input"
    ]
   },
   "outputs": [
    {
     "data": {
      "text/html": [
       "<style type=\"text/css\">\n",
       "</style>\n",
       "<table id=\"T_798a2\">\n",
       "  <caption>Dotação e Saldos por Órgão - 2023</caption>\n",
       "  <thead>\n",
       "    <tr>\n",
       "      <th id=\"T_798a2_level0_col0\" class=\"col_heading level0 col0\" >Órgão</th>\n",
       "      <th id=\"T_798a2_level0_col1\" class=\"col_heading level0 col1\" >Dotação</th>\n",
       "      <th id=\"T_798a2_level0_col2\" class=\"col_heading level0 col2\" >Empenhado</th>\n",
       "      <th id=\"T_798a2_level0_col3\" class=\"col_heading level0 col3\" >Disponível</th>\n",
       "      <th id=\"T_798a2_level0_col4\" class=\"col_heading level0 col4\" >% empenhado</th>\n",
       "    </tr>\n",
       "  </thead>\n",
       "  <tbody>\n",
       "    <tr>\n",
       "      <td id=\"T_798a2_row0_col0\" class=\"data row0 col0\" >SECRETARIA DE EDUCACAO CULTURA DESPORTO E TURISMO</td>\n",
       "      <td id=\"T_798a2_row0_col1\" class=\"data row0 col1\" >12.858.396,38</td>\n",
       "      <td id=\"T_798a2_row0_col2\" class=\"data row0 col2\" >6.013.063,96</td>\n",
       "      <td id=\"T_798a2_row0_col3\" class=\"data row0 col3\" >6.845.332,42</td>\n",
       "      <td id=\"T_798a2_row0_col4\" class=\"data row0 col4\" >47%</td>\n",
       "    </tr>\n",
       "    <tr>\n",
       "      <td id=\"T_798a2_row1_col0\" class=\"data row1 col0\" >SECRETARIA MUNICIPAL DE SAUDE</td>\n",
       "      <td id=\"T_798a2_row1_col1\" class=\"data row1 col1\" >8.681.126,63</td>\n",
       "      <td id=\"T_798a2_row1_col2\" class=\"data row1 col2\" >4.567.982,64</td>\n",
       "      <td id=\"T_798a2_row1_col3\" class=\"data row1 col3\" >4.113.143,99</td>\n",
       "      <td id=\"T_798a2_row1_col4\" class=\"data row1 col4\" >53%</td>\n",
       "    </tr>\n",
       "    <tr>\n",
       "      <td id=\"T_798a2_row2_col0\" class=\"data row2 col0\" >SECRETARIA DE SERVICOS URBANOS E TRANSITO</td>\n",
       "      <td id=\"T_798a2_row2_col1\" class=\"data row2 col1\" >3.953.888,86</td>\n",
       "      <td id=\"T_798a2_row2_col2\" class=\"data row2 col2\" >1.613.343,80</td>\n",
       "      <td id=\"T_798a2_row2_col3\" class=\"data row2 col3\" >2.340.545,06</td>\n",
       "      <td id=\"T_798a2_row2_col4\" class=\"data row2 col4\" >41%</td>\n",
       "    </tr>\n",
       "    <tr>\n",
       "      <td id=\"T_798a2_row3_col0\" class=\"data row3 col0\" >SECRETARIA DE OBRAS E VIACAO</td>\n",
       "      <td id=\"T_798a2_row3_col1\" class=\"data row3 col1\" >3.357.641,98</td>\n",
       "      <td id=\"T_798a2_row3_col2\" class=\"data row3 col2\" >1.752.573,21</td>\n",
       "      <td id=\"T_798a2_row3_col3\" class=\"data row3 col3\" >1.605.068,77</td>\n",
       "      <td id=\"T_798a2_row3_col4\" class=\"data row3 col4\" >52%</td>\n",
       "    </tr>\n",
       "    <tr>\n",
       "      <td id=\"T_798a2_row4_col0\" class=\"data row4 col0\" >SECRETARIA DA AGRICULTURA E ABASTECIMENTO</td>\n",
       "      <td id=\"T_798a2_row4_col1\" class=\"data row4 col1\" >2.241.680,22</td>\n",
       "      <td id=\"T_798a2_row4_col2\" class=\"data row4 col2\" >1.148.862,08</td>\n",
       "      <td id=\"T_798a2_row4_col3\" class=\"data row4 col3\" >1.092.818,14</td>\n",
       "      <td id=\"T_798a2_row4_col4\" class=\"data row4 col4\" >51%</td>\n",
       "    </tr>\n",
       "    <tr>\n",
       "      <td id=\"T_798a2_row5_col0\" class=\"data row5 col0\" >SECRETARIA DA FAZENDA</td>\n",
       "      <td id=\"T_798a2_row5_col1\" class=\"data row5 col1\" >1.858.307,00</td>\n",
       "      <td id=\"T_798a2_row5_col2\" class=\"data row5 col2\" >685.575,74</td>\n",
       "      <td id=\"T_798a2_row5_col3\" class=\"data row5 col3\" >1.172.731,26</td>\n",
       "      <td id=\"T_798a2_row5_col4\" class=\"data row5 col4\" >37%</td>\n",
       "    </tr>\n",
       "    <tr>\n",
       "      <td id=\"T_798a2_row6_col0\" class=\"data row6 col0\" >SECRETARIA DA ASSISTENCIA SOCIAL</td>\n",
       "      <td id=\"T_798a2_row6_col1\" class=\"data row6 col1\" >1.813.745,81</td>\n",
       "      <td id=\"T_798a2_row6_col2\" class=\"data row6 col2\" >695.750,20</td>\n",
       "      <td id=\"T_798a2_row6_col3\" class=\"data row6 col3\" >1.117.995,61</td>\n",
       "      <td id=\"T_798a2_row6_col4\" class=\"data row6 col4\" >38%</td>\n",
       "    </tr>\n",
       "    <tr>\n",
       "      <td id=\"T_798a2_row7_col0\" class=\"data row7 col0\" >SECRETARIA DE ADMINISTRACAO</td>\n",
       "      <td id=\"T_798a2_row7_col1\" class=\"data row7 col1\" >1.725.865,00</td>\n",
       "      <td id=\"T_798a2_row7_col2\" class=\"data row7 col2\" >640.983,03</td>\n",
       "      <td id=\"T_798a2_row7_col3\" class=\"data row7 col3\" >1.084.881,97</td>\n",
       "      <td id=\"T_798a2_row7_col4\" class=\"data row7 col4\" >37%</td>\n",
       "    </tr>\n",
       "    <tr>\n",
       "      <td id=\"T_798a2_row8_col0\" class=\"data row8 col0\" >GABINETE DO PREFEITO E VICE PREFEITO</td>\n",
       "      <td id=\"T_798a2_row8_col1\" class=\"data row8 col1\" >1.123.160,00</td>\n",
       "      <td id=\"T_798a2_row8_col2\" class=\"data row8 col2\" >666.845,02</td>\n",
       "      <td id=\"T_798a2_row8_col3\" class=\"data row8 col3\" >456.314,98</td>\n",
       "      <td id=\"T_798a2_row8_col4\" class=\"data row8 col4\" >59%</td>\n",
       "    </tr>\n",
       "    <tr>\n",
       "      <td id=\"T_798a2_row9_col0\" class=\"data row9 col0\" >ENCARGOS ESPECIAIS</td>\n",
       "      <td id=\"T_798a2_row9_col1\" class=\"data row9 col1\" >1.017.290,94</td>\n",
       "      <td id=\"T_798a2_row9_col2\" class=\"data row9 col2\" >709.661,09</td>\n",
       "      <td id=\"T_798a2_row9_col3\" class=\"data row9 col3\" >307.629,85</td>\n",
       "      <td id=\"T_798a2_row9_col4\" class=\"data row9 col4\" >70%</td>\n",
       "    </tr>\n",
       "  </tbody>\n",
       "</table>\n"
      ],
      "text/plain": [
       "<pandas.io.formats.style.Styler at 0x28614841e90>"
      ]
     },
     "execution_count": 136,
     "metadata": {},
     "output_type": "execute_result"
    }
   ],
   "source": [
    "lspec = {\n",
    "    'nome_orgao': 'Órgão',\n",
    "    'total': 'Dotação',\n",
    "    'empenhado': 'Empenhado',\n",
    "    'saldo': 'Disponível',\n",
    "    'perc_emp': '% empenhado'\n",
    "}\n",
    "lfmt = {\n",
    "    'total': money_formatter,\n",
    "    'saldo': money_formatter,\n",
    "    'empenhado': money_formatter,\n",
    "    'perc_emp': perc0_formatter\n",
    "}\n",
    "df = df_table(orcamento.copy(), lspec, lfmt)\n",
    "df.style.set_caption(f'{nome} - {dt.year}').hide(axis='index')"
   ]
  }
 ],
 "metadata": {
  "kernelspec": {
   "display_name": "Python 3 (ipykernel)",
   "language": "python",
   "name": "python3"
  },
  "language_info": {
   "codemirror_mode": {
    "name": "ipython",
    "version": 3
   },
   "file_extension": ".py",
   "mimetype": "text/x-python",
   "name": "python",
   "nbconvert_exporter": "python",
   "pygments_lexer": "ipython3",
   "version": "3.11.3"
  }
 },
 "nbformat": 4,
 "nbformat_minor": 5
}
