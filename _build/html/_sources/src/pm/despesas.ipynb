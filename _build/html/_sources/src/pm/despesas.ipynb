{
 "cells": [
  {
   "cell_type": "code",
   "execution_count": null,
   "id": "9493b247-13ca-407e-abc0-b0563896a327",
   "metadata": {
    "tags": [
     "remove-input"
    ]
   },
   "outputs": [],
   "source": [
    "import pandas as pd\n",
    "import matplotlib.pyplot as plt\n",
    "from matplotlib.ticker import FuncFormatter\n",
    "import numpy as np\n",
    "import calendar\n",
    "from datetime import date\n",
    "\n",
    "%run ../db.py\n",
    "%run ../database.py\n",
    "%run ../utils.py"
   ]
  },
  {
   "cell_type": "code",
   "execution_count": null,
   "id": "dd4dfd30-45eb-4481-b44a-d6e7add2ceb9",
   "metadata": {
    "tags": [
     "remove-input"
    ]
   },
   "outputs": [],
   "source": [
    "cgreen = '#27ae60'\n",
    "cblue = '#2980b9'\n",
    "cred = '#c0392b'\n",
    "corange = '#d35400'\n",
    "cgrey = '#7f8c8d'\n",
    "cdark = '#2c3e50'\n",
    "cwithe = '#ecf0f1'\n",
    "\n",
    "figsize = (10, 6)"
   ]
  },
  {
   "cell_type": "code",
   "execution_count": null,
   "id": "0fc59b3e-5d6c-48c8-a923-53742db5d056",
   "metadata": {
    "tags": [
     "remove-input"
    ]
   },
   "outputs": [],
   "source": [
    "spec = {\n",
    "    'data_base': 'Mês',\n",
    "    'meta_mensal': 'Meta Mensal',\n",
    "    'liquidado_mensal': 'Liquidado Mensal',\n",
    "    'dif_mensal': 'Diferença Mensal',\n",
    "    'meta_acumulada': 'Meta Acumulada',\n",
    "    'liquidado_acumulado': 'Liquidado Acumulado',\n",
    "    'dif_acumulada': 'Diferença Acumulada'\n",
    "}\n",
    "fmt = {\n",
    "    'data_base': date_to_month_name,\n",
    "    'meta_mensal': money_formatter,\n",
    "    'liquidado_mensal': money_formatter,\n",
    "    'dif_mensal': money_formatter,\n",
    "    'meta_acumulada': money_formatter,\n",
    "    'liquidado_acumulado': money_formatter,\n",
    "    'dif_acumulada': money_formatter\n",
    "}"
   ]
  },
  {
   "cell_type": "code",
   "execution_count": null,
   "id": "151fac19-37c1-437b-9dad-9ced81d3f24c",
   "metadata": {
    "tags": [
     "remove-input"
    ]
   },
   "outputs": [],
   "source": [
    "def plot_acumulado(df, titulo):\n",
    "    fig, ax = plt.subplots(figsize=figsize)\n",
    "    fig.suptitle(titulo, x=0, fontsize=16)\n",
    "    plt.title('valores acumulados', x=0)\n",
    "    x = df['data_base'].dt.strftime('%b')\n",
    "    plt.plot(x, df['meta_acumulada'], color=cblue, label='Meta', linestyle='--')\n",
    "    plt.plot(x, df['liquidado_acumulado'], color=corange, label='Liquidado', marker='^')\n",
    "    plt.ylim(bottom=0)\n",
    "    plt.xticks(x)\n",
    "    ax.yaxis.set_major_formatter(int_formatter)\n",
    "    plt.legend(loc='best', ncol=4)\n",
    "    plt.show()\n",
    "\n",
    "def adiciona_data_base(df):\n",
    "    last_day_of_month = []\n",
    "    for month in range(df['data_base'].max().month + 1, 13):\n",
    "        last_day_of_month.append(date(2023, month, calendar.monthrange(2023, month)[1]))\n",
    "    for dt in last_day_of_month:\n",
    "        n = pd.DataFrame([{'data_base': dt}])\n",
    "        df = pd.concat([df, n])\n",
    "    df = df.reset_index(drop=True)\n",
    "    #df = df.drop('index', axis=1)\n",
    "    return df\n",
    "    \n",
    "def plot_mensal(df, titulo):\n",
    "    fig, ax = plt.subplots(figsize=figsize)\n",
    "    fig.suptitle(titulo, x=0, fontsize=16)\n",
    "    plt.title('valores mensais', x=0)\n",
    "    x = df['data_base'].dt.strftime('%b')\n",
    "    bar_width = 0.25\n",
    "    x_pos = np.arange(len(x))\n",
    "    plt.bar(x_pos, df['meta_mensal'], color=cgrey, label='Meta', width=bar_width, align='center')\n",
    "    plt.bar(x_pos + bar_width, df['liquidado_mensal'], color=corange, label='Liquidado', width=bar_width, align='center')\n",
    "    plt.ylim(bottom=0)\n",
    "    ax.yaxis.set_major_formatter(int_formatter)\n",
    "    ax.set_xticks(x_pos)\n",
    "    ax.set_xticklabels(x)\n",
    "    plt.legend(loc='best', ncol=3)\n",
    "    plt.show()\n"
   ]
  },
  {
   "cell_type": "markdown",
   "id": "027c12db-9db3-4aa1-9064-7c27f8873f23",
   "metadata": {},
   "source": [
    "# Despesas\n",
    "\n",
    "Nesta parte são demonstradas as despesas da **Prefeitura**, excluídas, portanto, as receias do *RPPS* e da *Câmara de Vereadores*. As despesas *intra-orçamentárias* executadas são incluídas nos valores."
   ]
  },
  {
   "cell_type": "markdown",
   "id": "8c6d66e6-852a-46c3-96a2-2a1c3f42ee91",
   "metadata": {},
   "source": [
    "## Despesa Total"
   ]
  },
  {
   "cell_type": "code",
   "execution_count": null,
   "id": "6fafebc2-f023-40f1-ab3f-bdd0f91b3a90",
   "metadata": {
    "tags": [
     "remove-input"
    ]
   },
   "outputs": [],
   "source": [
    "nome_despesa = 'Despesa Total'\n",
    "sql = f'''SELECT\n",
    "    data_base,\n",
    "    SUM(meta_mensal_atualizada) AS meta_mensal,\n",
    "    SUM(valor_liquidado) AS liquidado_mensal,\n",
    "    SUM(SUM(meta_mensal_atualizada)) OVER (ORDER BY data_base) AS meta_acumulada,\n",
    "    SUM(SUM(valor_liquidado)) OVER (ORDER BY data_base) AS liquidado_acumulado\n",
    "FROM pad.\"DESPESA\"\n",
    "WHERE\n",
    "    entidade = 'pm' AND exercicio = {controle_ano}\n",
    "    AND controle BETWEEN {controle_ano}01 AND {controle_ano}12\n",
    "GROUP BY data_base\n",
    "ORDER BY data_base ASC;\n",
    "'''\n",
    "#print(sql)\n",
    "despesa = sqldf(sql)\n",
    "despesa = adiciona_data_base(despesa)\n",
    "despesa['dif_mensal'] = round(despesa['liquidado_mensal'] - despesa['meta_mensal'])\n",
    "despesa['dif_acumulada'] = round(despesa['liquidado_acumulado'] - despesa['meta_acumulada'])\n",
    "despesa['data_base'] = pd.to_datetime(despesa['data_base'], format='%Y-%m-%d')\n",
    "#despesa\n"
   ]
  },
  {
   "cell_type": "code",
   "execution_count": null,
   "id": "3221463c-3a92-4313-aca9-a225bb85f0a4",
   "metadata": {
    "tags": [
     "remove-input",
     "full-width"
    ]
   },
   "outputs": [],
   "source": [
    "acumulado = despesa.copy()\n",
    "plot_acumulado(acumulado, nome_despesa)"
   ]
  },
  {
   "cell_type": "code",
   "execution_count": null,
   "id": "af5880d2-da1d-4535-bb3e-f6c676e6a4bf",
   "metadata": {
    "tags": []
   },
   "outputs": [],
   "source": [
    "mensal = despesa.copy()\n",
    "plot_mensal(mensal, nome_despesa)"
   ]
  },
  {
   "cell_type": "code",
   "execution_count": null,
   "id": "81ef2234-a27e-4715-97ab-a8004cab07b9",
   "metadata": {
    "tags": [
     "remove-input",
     "full-width"
    ]
   },
   "outputs": [],
   "source": [
    "df = df_table(mensal.copy(), spec, fmt)\n",
    "df.style.set_caption(f'{nome_despesa} - {dt.year}').hide(axis='index')\n",
    "#df"
   ]
  },
  {
   "cell_type": "markdown",
   "id": "a01eee5e-1152-4166-a2ed-8d2af8a0c007",
   "metadata": {},
   "source": [
    "## Despesa Corrente"
   ]
  },
  {
   "cell_type": "code",
   "execution_count": null,
   "id": "9a3d829d-414b-4a80-8c77-b7ea60125266",
   "metadata": {
    "tags": [
     "remove-input"
    ]
   },
   "outputs": [],
   "source": [
    "nome_despesa = 'Despesa Corrente'\n",
    "sql = f'''SELECT\n",
    "    data_base,\n",
    "    SUM(meta_mensal_atualizada) AS meta_mensal,\n",
    "    SUM(valor_liquidado) AS liquidado_mensal,\n",
    "    SUM(SUM(meta_mensal_atualizada)) OVER (ORDER BY data_base) AS meta_acumulada,\n",
    "    SUM(SUM(valor_liquidado)) OVER (ORDER BY data_base) AS liquidado_acumulado\n",
    "FROM pad.\"DESPESA\"\n",
    "WHERE\n",
    "    entidade = 'pm' AND exercicio = {controle_ano}\n",
    "    AND controle BETWEEN {controle_ano}01 AND {controle_ano}12\n",
    "    AND elemento LIKE '3%%'\n",
    "GROUP BY data_base\n",
    "ORDER BY data_base ASC;\n",
    "'''\n",
    "#print(sql)\n",
    "despesa = sqldf(sql)\n",
    "despesa = adiciona_data_base(despesa)\n",
    "despesa['dif_mensal'] = round(despesa['liquidado_mensal'] - despesa['meta_mensal'])\n",
    "despesa['dif_acumulada'] = round(despesa['liquidado_acumulado'] - despesa['meta_acumulada'])\n",
    "despesa['data_base'] = pd.to_datetime(despesa['data_base'], format='%Y-%m-%d')\n",
    "#despesa\n"
   ]
  },
  {
   "cell_type": "code",
   "execution_count": null,
   "id": "85e65201-0ceb-4e71-88fb-70bed94dd12c",
   "metadata": {
    "tags": [
     "remove-input",
     "full-width"
    ]
   },
   "outputs": [],
   "source": [
    "acumulado = despesa.copy()\n",
    "plot_acumulado(acumulado, nome_despesa)"
   ]
  },
  {
   "cell_type": "code",
   "execution_count": null,
   "id": "b04b9728-7f7d-4a12-92c8-141ffeab2dde",
   "metadata": {
    "tags": []
   },
   "outputs": [],
   "source": [
    "mensal = despesa.copy()\n",
    "plot_mensal(mensal, nome_despesa)"
   ]
  },
  {
   "cell_type": "code",
   "execution_count": null,
   "id": "2e53a6da-a024-43ed-91ab-cc6e58366aa6",
   "metadata": {
    "tags": [
     "remove-input",
     "full-width"
    ]
   },
   "outputs": [],
   "source": [
    "df = df_table(mensal.copy(), spec, fmt)\n",
    "df.style.set_caption(f'{nome_despesa} - {dt.year}').hide(axis='index')\n",
    "#df"
   ]
  },
  {
   "cell_type": "markdown",
   "id": "b3ad8fa0-c91f-4156-a83f-c845adf12ee4",
   "metadata": {},
   "source": [
    "## Despesa com Pessoal e Encargos Sociais"
   ]
  },
  {
   "cell_type": "code",
   "execution_count": null,
   "id": "a6688b8b-4c7b-4038-9e19-a6e7832edcb4",
   "metadata": {
    "tags": [
     "remove-input"
    ]
   },
   "outputs": [],
   "source": [
    "nome_despesa = 'Despesa com Pessoal e Encargos Sociais'\n",
    "sql = f'''SELECT\n",
    "    data_base,\n",
    "    SUM(meta_mensal_atualizada) AS meta_mensal,\n",
    "    SUM(valor_liquidado) AS liquidado_mensal,\n",
    "    SUM(SUM(meta_mensal_atualizada)) OVER (ORDER BY data_base) AS meta_acumulada,\n",
    "    SUM(SUM(valor_liquidado)) OVER (ORDER BY data_base) AS liquidado_acumulado\n",
    "FROM pad.\"DESPESA\"\n",
    "WHERE\n",
    "    entidade = 'pm' AND exercicio = {controle_ano}\n",
    "    AND controle BETWEEN {controle_ano}01 AND {controle_ano}12\n",
    "    AND elemento LIKE '31%%'\n",
    "GROUP BY data_base\n",
    "ORDER BY data_base ASC;\n",
    "'''\n",
    "#print(sql)\n",
    "despesa = sqldf(sql)\n",
    "despesa = adiciona_data_base(despesa)\n",
    "despesa['dif_mensal'] = round(despesa['liquidado_mensal'] - despesa['meta_mensal'])\n",
    "despesa['dif_acumulada'] = round(despesa['liquidado_acumulado'] - despesa['meta_acumulada'])\n",
    "despesa['data_base'] = pd.to_datetime(despesa['data_base'], format='%Y-%m-%d')\n",
    "#despesa\n"
   ]
  },
  {
   "cell_type": "code",
   "execution_count": null,
   "id": "488ecf7d-30f4-4f8e-b5b2-10461e4f7dc6",
   "metadata": {
    "tags": [
     "remove-input",
     "full-width"
    ]
   },
   "outputs": [],
   "source": [
    "acumulado = despesa.copy()\n",
    "plot_acumulado(acumulado, nome_despesa)"
   ]
  },
  {
   "cell_type": "code",
   "execution_count": null,
   "id": "e74ff83e-2df5-4809-b7dd-4cfa39ef9c53",
   "metadata": {
    "tags": []
   },
   "outputs": [],
   "source": [
    "mensal = despesa.copy()\n",
    "plot_mensal(mensal, nome_despesa)"
   ]
  },
  {
   "cell_type": "code",
   "execution_count": null,
   "id": "86a7564e-c955-4237-b990-285826f5aab4",
   "metadata": {
    "tags": [
     "remove-input",
     "full-width"
    ]
   },
   "outputs": [],
   "source": [
    "df = df_table(mensal.copy(), spec, fmt)\n",
    "df.style.set_caption(f'{nome_despesa} - {dt.year}').hide(axis='index')\n",
    "#df"
   ]
  },
  {
   "cell_type": "markdown",
   "id": "ca1385e1-14a4-470b-9bfe-a77125ae793b",
   "metadata": {},
   "source": [
    "## Despesa de Custeio\n",
    "\n",
    "Outras despesas correntes, exceto pessoal, encargos sociais e juros da dívida."
   ]
  },
  {
   "cell_type": "code",
   "execution_count": null,
   "id": "e13683ec-efcf-47ff-905a-704767f0dbf4",
   "metadata": {
    "tags": [
     "remove-input"
    ]
   },
   "outputs": [],
   "source": [
    "nome_despesa = 'Despesa de Custeio - exceto pessoal'\n",
    "sql = f'''SELECT\n",
    "    data_base,\n",
    "    SUM(meta_mensal_atualizada) AS meta_mensal,\n",
    "    SUM(valor_liquidado) AS liquidado_mensal,\n",
    "    SUM(SUM(meta_mensal_atualizada)) OVER (ORDER BY data_base) AS meta_acumulada,\n",
    "    SUM(SUM(valor_liquidado)) OVER (ORDER BY data_base) AS liquidado_acumulado\n",
    "FROM pad.\"DESPESA\"\n",
    "WHERE\n",
    "    entidade = 'pm' AND exercicio = {controle_ano}\n",
    "    AND controle BETWEEN {controle_ano}01 AND {controle_ano}12\n",
    "    AND elemento LIKE '33%%'\n",
    "GROUP BY data_base\n",
    "ORDER BY data_base ASC;\n",
    "'''\n",
    "#print(sql)\n",
    "despesa = sqldf(sql)\n",
    "despesa = adiciona_data_base(despesa)\n",
    "despesa['dif_mensal'] = round(despesa['liquidado_mensal'] - despesa['meta_mensal'])\n",
    "despesa['dif_acumulada'] = round(despesa['liquidado_acumulado'] - despesa['meta_acumulada'])\n",
    "despesa['data_base'] = pd.to_datetime(despesa['data_base'], format='%Y-%m-%d')\n",
    "#despesa\n"
   ]
  },
  {
   "cell_type": "code",
   "execution_count": null,
   "id": "4343530a-c2be-4218-adf1-aa5f6f0a9f18",
   "metadata": {
    "tags": [
     "remove-input",
     "full-width"
    ]
   },
   "outputs": [],
   "source": [
    "acumulado = despesa.copy()\n",
    "plot_acumulado(acumulado, nome_despesa)"
   ]
  },
  {
   "cell_type": "code",
   "execution_count": null,
   "id": "eb829538-331e-49a1-97b8-1dadee8beb50",
   "metadata": {
    "tags": []
   },
   "outputs": [],
   "source": [
    "mensal = despesa.copy()\n",
    "plot_mensal(mensal, nome_despesa)"
   ]
  },
  {
   "cell_type": "code",
   "execution_count": null,
   "id": "3f73f6ee-f56b-4182-94b6-7a86c750a48b",
   "metadata": {
    "tags": [
     "remove-input",
     "full-width"
    ]
   },
   "outputs": [],
   "source": [
    "df = df_table(mensal.copy(), spec, fmt)\n",
    "df.style.set_caption(f'{nome_despesa} - {dt.year}').hide(axis='index')\n",
    "#df"
   ]
  },
  {
   "cell_type": "markdown",
   "id": "39a068fa-5a40-420d-ac2a-e5b4b329a310",
   "metadata": {},
   "source": [
    "## Despesa por Órgãos"
   ]
  },
  {
   "cell_type": "code",
   "execution_count": 74,
   "id": "074ed7cf-a8b1-4a35-adff-9e30ad6d37fe",
   "metadata": {
    "tags": [
     "remove-input"
    ]
   },
   "outputs": [],
   "source": [
    "nome_despesa = 'Despesa por Órgãos'\n",
    "sql = f'''\n",
    "SELECT\n",
    "    nome_orgao,\n",
    "    SUM(valor_liquidado) AS liquidado\n",
    "FROM pad.\"BAL_DESP\"\n",
    "WHERE\n",
    "    controle = {controle_mes}\n",
    "    AND entidade LIKE 'pm'\n",
    "GROUP BY\n",
    "    nome_orgao\n",
    "ORDER BY\n",
    "    liquidado DESC\n",
    "'''\n",
    "#print(sql)\n",
    "despesa_atual = sqldf(sql)\n",
    "\n",
    "despesa = despesa_atual\n"
   ]
  },
  {
   "cell_type": "code",
   "execution_count": 75,
   "id": "9a0ac1b1-b9d3-4514-9ec5-6cc403d23bb6",
   "metadata": {
    "tags": [
     "remove-input",
     "full-width"
    ]
   },
   "outputs": [
    {
     "data": {
      "image/png": "[encoded data removed]",
      "text/plain": [
       "<Figure size 640x480 with 1 Axes>"
      ]
     },
     "metadata": {},
     "output_type": "display_data"
    }
   ],
   "source": [
    "fig, ax = plt.subplots()\n",
    "fig.suptitle('Despesa Total por Órgão', x=0, fontsize=16)\n",
    "plt.title('valor liquidado', x=0)\n",
    "orgaos = despesa['nome_orgao']\n",
    "ax.barh(orgaos, despesa['liquidado'], color=cblue)\n",
    "ax.invert_yaxis()\n",
    "for i, v in enumerate(despesa['liquidado']):\n",
    "    ax.text(v + 3, i + 0.25, money_formatter(v), color=cdark)\n",
    "ax.set_xticks([])\n",
    "ax.set_frame_on(False)\n",
    "plt.show()"
   ]
  },
  {
   "cell_type": "code",
   "execution_count": 76,
   "id": "6f79b94b-0d69-47e9-bb05-659d589ae5ee",
   "metadata": {
    "tags": [
     "remove-input"
    ]
   },
   "outputs": [
    {
     "data": {
      "text/html": [
       "<style type=\"text/css\">\n",
       "</style>\n",
       "<table id=\"T_18469\">\n",
       "  <caption>Despesa por Órgãos - valores acumulados - 2023</caption>\n",
       "  <thead>\n",
       "    <tr>\n",
       "      <th id=\"T_18469_level0_col0\" class=\"col_heading level0 col0\" >Órgão</th>\n",
       "      <th id=\"T_18469_level0_col1\" class=\"col_heading level0 col1\" >Liquidado</th>\n",
       "    </tr>\n",
       "  </thead>\n",
       "  <tbody>\n",
       "    <tr>\n",
       "      <td id=\"T_18469_row0_col0\" class=\"data row0 col0\" >SECRETARIA DE EDUCACAO CULTURA DESPORTO E TURISMO</td>\n",
       "      <td id=\"T_18469_row0_col1\" class=\"data row0 col1\" >3.531.879,50</td>\n",
       "    </tr>\n",
       "    <tr>\n",
       "      <td id=\"T_18469_row1_col0\" class=\"data row1 col0\" >SECRETARIA MUNICIPAL DE SAUDE</td>\n",
       "      <td id=\"T_18469_row1_col1\" class=\"data row1 col1\" >2.550.892,47</td>\n",
       "    </tr>\n",
       "    <tr>\n",
       "      <td id=\"T_18469_row2_col0\" class=\"data row2 col0\" >SECRETARIA DE OBRAS E VIACAO</td>\n",
       "      <td id=\"T_18469_row2_col1\" class=\"data row2 col1\" >816.809,04</td>\n",
       "    </tr>\n",
       "    <tr>\n",
       "      <td id=\"T_18469_row3_col0\" class=\"data row3 col0\" >SECRETARIA DE SERVICOS URBANOS E TRANSITO</td>\n",
       "      <td id=\"T_18469_row3_col1\" class=\"data row3 col1\" >712.854,84</td>\n",
       "    </tr>\n",
       "    <tr>\n",
       "      <td id=\"T_18469_row4_col0\" class=\"data row4 col0\" >SECRETARIA DA AGRICULTURA E ABASTECIMENTO</td>\n",
       "      <td id=\"T_18469_row4_col1\" class=\"data row4 col1\" >544.985,91</td>\n",
       "    </tr>\n",
       "    <tr>\n",
       "      <td id=\"T_18469_row5_col0\" class=\"data row5 col0\" >SECRETARIA DA FAZENDA</td>\n",
       "      <td id=\"T_18469_row5_col1\" class=\"data row5 col1\" >508.239,04</td>\n",
       "    </tr>\n",
       "    <tr>\n",
       "      <td id=\"T_18469_row6_col0\" class=\"data row6 col0\" >GABINETE DO PREFEITO E VICE PREFEITO</td>\n",
       "      <td id=\"T_18469_row6_col1\" class=\"data row6 col1\" >458.423,84</td>\n",
       "    </tr>\n",
       "    <tr>\n",
       "      <td id=\"T_18469_row7_col0\" class=\"data row7 col0\" >ENCARGOS ESPECIAIS</td>\n",
       "      <td id=\"T_18469_row7_col1\" class=\"data row7 col1\" >420.752,64</td>\n",
       "    </tr>\n",
       "    <tr>\n",
       "      <td id=\"T_18469_row8_col0\" class=\"data row8 col0\" >SECRETARIA DA ASSISTENCIA SOCIAL</td>\n",
       "      <td id=\"T_18469_row8_col1\" class=\"data row8 col1\" >419.511,55</td>\n",
       "    </tr>\n",
       "    <tr>\n",
       "      <td id=\"T_18469_row9_col0\" class=\"data row9 col0\" >SECRETARIA DE ADMINISTRACAO</td>\n",
       "      <td id=\"T_18469_row9_col1\" class=\"data row9 col1\" >389.839,36</td>\n",
       "    </tr>\n",
       "  </tbody>\n",
       "</table>\n"
      ],
      "text/plain": [
       "<pandas.io.formats.style.Styler at 0x27f02f635d0>"
      ]
     },
     "execution_count": 76,
     "metadata": {},
     "output_type": "execute_result"
    }
   ],
   "source": [
    "df = df_table(despesa.copy(), spec={\n",
    "    'nome_orgao': 'Órgão',\n",
    "    'liquidado': 'Liquidado'\n",
    "}, fmt={\n",
    "    'liquidado': money_formatter\n",
    "})\n",
    "df.style.set_caption(f'{nome_despesa} - valores acumulados - {dt.year}').hide(axis='index')\n",
    "#df"
   ]
  }
 ],
 "metadata": {
  "kernelspec": {
   "display_name": "Python 3 (ipykernel)",
   "language": "python",
   "name": "python3"
  },
  "language_info": {
   "codemirror_mode": {
    "name": "ipython",
    "version": 3
   },
   "file_extension": ".py",
   "mimetype": "text/x-python",
   "name": "python",
   "nbconvert_exporter": "python",
   "pygments_lexer": "ipython3",
   "version": "3.11.3"
  }
 },
 "nbformat": 4,
 "nbformat_minor": 5
}
