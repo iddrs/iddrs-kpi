{
 "cells": [
  {
   "cell_type": "code",
   "execution_count": 7,
   "id": "50b601f7-2b8d-4b57-a89f-ebb70927719a",
   "metadata": {
    "tags": [
     "remove-input"
    ]
   },
   "outputs": [
    {
     "data": {
      "text/plain": [
       "'2023-05-01'"
      ]
     },
     "execution_count": 7,
     "metadata": {},
     "output_type": "execute_result"
    }
   ],
   "source": [
    "import pandas as pd\n",
    "import matplotlib.pyplot as plt\n",
    "from matplotlib.ticker import FuncFormatter\n",
    "import numpy as np\n",
    "\n",
    "%run db.py\n",
    "%run database.py\n",
    "%run utils.py"
   ]
  },
  {
   "cell_type": "code",
   "execution_count": null,
   "id": "09daea6b-4c7a-41b7-b5f0-a9921ce92010",
   "metadata": {
    "jupyter": {
     "source_hidden": true
    },
    "tags": [
     "remove-input"
    ]
   },
   "outputs": [],
   "source": [
    "cgreen = '#27ae60'\n",
    "cblue = '#2980b9'\n",
    "cred = '#c0392b'\n",
    "corange = '#d35400'\n",
    "cgrey = '#7f8c8d'\n",
    "cdark = '#2c3e50'\n",
    "cwithe = '#ecf0f1'\n",
    "\n",
    "figsize = (10, 6)"
   ]
  },
  {
   "cell_type": "code",
   "execution_count": null,
   "id": "20e5a08c-b2cd-44ba-a8a0-d0187f0f9901",
   "metadata": {
    "jupyter": {
     "source_hidden": true
    },
    "tags": [
     "remove-input"
    ]
   },
   "outputs": [],
   "source": [
    "spec = {\n",
    "    'data_base': 'Mês',\n",
    "    'anterior': dt.year - 1,\n",
    "    'meta': 'Meta',\n",
    "    'arrecadado': dt.year,\n",
    "    'dif_anterior': f'{dt.year} - {dt.year - 1}',\n",
    "    'dif_perc_ant': f'{dt.year} / {dt.year - 1}',\n",
    "    'dif_meta': f'{dt.year} - Meta',\n",
    "    'dif_perc_meta': f'{dt.year} / Meta'\n",
    "}\n",
    "fmt = {\n",
    "    'data_base': date_to_month_name,\n",
    "    'anterior': money_formatter,\n",
    "    'meta': money_formatter,\n",
    "    'arrecadado': money_formatter,\n",
    "    'dif_anterior': money_formatter,\n",
    "    'dif_perc_ant': perc0_formatter,\n",
    "    'dif_meta': money_formatter,\n",
    "    'dif_perc_meta': perc0_formatter,\n",
    "}"
   ]
  },
  {
   "cell_type": "code",
   "execution_count": null,
   "id": "4c625981-0930-4d77-82ac-b5d91c9f0ab4",
   "metadata": {
    "jupyter": {
     "source_hidden": true
    },
    "tags": [
     "remove-input"
    ]
   },
   "outputs": [],
   "source": [
    "def plot_mensal(df, titulo):\n",
    "    fig, ax = plt.subplots(figsize=figsize)\n",
    "    fig.suptitle(titulo, x=0, fontsize=16)\n",
    "    plt.title('valores mensais', x=0)\n",
    "    x = df['data_base'].dt.strftime('%b')\n",
    "    bar_width = 0.25\n",
    "    x_pos = np.arange(len(x))\n",
    "    plt.bar(x_pos - bar_width, df['anterior'], color=cblue, label=str(dt.year - 1), width=bar_width, align='center')\n",
    "    plt.bar(x_pos, df['meta'], color=cgrey, label='Meta', width=bar_width, align='center')\n",
    "    plt.bar(x_pos + bar_width, df['arrecadado'], color=cgreen, label='Arrecadado', width=bar_width, align='center')\n",
    "    plt.ylim(bottom=0)\n",
    "    ax.yaxis.set_major_formatter(int_formatter)\n",
    "    ax.set_xticks(x_pos)\n",
    "    ax.set_xticklabels(x)\n",
    "    plt.legend(loc='upper left', ncol=3)\n",
    "    plt.show()\n",
    "    \n",
    "\n",
    "def plot_acumulado(df, titulo):\n",
    "    fig, ax = plt.subplots(figsize=figsize)\n",
    "    fig.suptitle(titulo, x=0, fontsize=16)\n",
    "    plt.title('valores acumulados', x=0)\n",
    "    x = df['data_base'].dt.strftime('%b')\n",
    "    plt.plot(x, df['anterior'], color=cblue, label=str(dt.year - 1), marker='o')\n",
    "    plt.plot(x, df['meta'], color=cgrey, label='Meta', linestyle='--')\n",
    "    plt.plot(x, df['arrecadado'], color=cgreen, label='Arrecadado', marker='^')\n",
    "    plt.ylim(bottom=0)\n",
    "    ax.yaxis.set_major_formatter(int_formatter)\n",
    "    plt.legend(loc='upper left', ncol=3)\n",
    "    plt.show()\n",
    "\n",
    "    \n",
    "def prepara_df_acumulado(df):\n",
    "    df['arrecadado'] = df['arrecadado'].cumsum()\n",
    "    df['meta'] = df['meta'].cumsum()\n",
    "    df['anterior'] = df['anterior'].cumsum()\n",
    "    df['dif_meta'] = df['arrecadado'] - df['meta']\n",
    "    df['dif_perc_meta'] = (df['arrecadado'] / df['meta']) - 1\n",
    "    df['dif_anterior'] = df['arrecadado'] - df['anterior']\n",
    "    df['dif_perc_ant'] = (df['arrecadado'] / df['anterior']) - 1\n",
    "    return df\n",
    "\n",
    "def prepara_df_mensal(df):\n",
    "    df['dif_meta'] = df['arrecadado'] - df['meta']\n",
    "    df['dif_perc_meta'] = (df['arrecadado'] / df['meta']) - 1\n",
    "    df['dif_anterior'] = df['arrecadado'] - df['anterior']\n",
    "    df['dif_perc_ant'] = (df['arrecadado'] / df['anterior']) - 1\n",
    "    return df\n"
   ]
  },
  {
   "cell_type": "markdown",
   "id": "d038977a-ec0f-4686-b811-c5809cf7aa3e",
   "metadata": {},
   "source": [
    "# Receitas\n",
    "\n",
    "Nesta parte são demonstradas as receitas da **Prefeitura**, excluídas, portanto, as receias do *RPPS*. Também são excluídas as receitas *intra-orçamentárias*.\n",
    "\n",
    "As receitas são apresentadas em seus valores líquidos das deduções da receita."
   ]
  },
  {
   "cell_type": "markdown",
   "id": "b8f48b2c-86ac-451b-9f86-d5b8146dee0e",
   "metadata": {},
   "source": [
    "## Receita Total"
   ]
  },
  {
   "cell_type": "code",
   "execution_count": null,
   "id": "f885df7d-155a-4e94-8bfe-d43ba444de01",
   "metadata": {
    "jupyter": {
     "source_hidden": true
    },
    "tags": [
     "remove-input"
    ]
   },
   "outputs": [],
   "source": [
    "nome_receita = 'Receita Total'\n",
    "sql = f'''\n",
    "SELECT\n",
    "    data_base,\n",
    "    SUM(receita_realizada) AS arrecadado,\n",
    "    SUM(meta_mensal) AS meta\n",
    "FROM pad.\"RECEITA\"\n",
    "\n",
    "WHERE\n",
    "    controle = {controle_mes}\n",
    "    AND entidade LIKE 'pm'\n",
    "    AND classe_receita NOT LIKE 'intra'\n",
    "GROUP BY\n",
    "    data_base\n",
    "ORDER BY\n",
    "    data_base ASC\n",
    "'''\n",
    "#print(sql)\n",
    "receita_atual = sqldf(sql)\n",
    "#receita_atual\n",
    "\n",
    "sql = f'''\n",
    "SELECT\n",
    "    data_base,\n",
    "    SUM(receita_realizada) AS arrecadado\n",
    "FROM pad.\"RECEITA\"\n",
    "\n",
    "WHERE\n",
    "    controle = {controle_mes_ano_anterior}\n",
    "    AND entidade LIKE 'pm'\n",
    "    AND classe_receita NOT LIKE 'intra'\n",
    "GROUP BY\n",
    "    data_base\n",
    "ORDER BY\n",
    "    data_base ASC\n",
    "'''\n",
    "#print(sql)\n",
    "receita_anterior = sqldf(sql)\n",
    "#receita_anterior\n",
    "\n",
    "receita = receita_atual\n",
    "receita['anterior'] = receita_anterior['arrecadado']\n",
    "receita['data_base'] = pd.to_datetime(receita['data_base'], format='%Y-%m-%d')\n",
    "#receita.dtypes"
   ]
  },
  {
   "cell_type": "code",
   "execution_count": null,
   "id": "61934c32-a212-4a60-98e7-a3e66b02219c",
   "metadata": {
    "jupyter": {
     "source_hidden": true
    },
    "tags": [
     "remove-input"
    ]
   },
   "outputs": [],
   "source": [
    "acumulado = prepara_df_acumulado(receita.copy())\n",
    "plot_acumulado(acumulado, nome_receita)"
   ]
  },
  {
   "cell_type": "code",
   "execution_count": null,
   "id": "0b92bd20-7059-4d64-9958-3b19d3923b0e",
   "metadata": {
    "jupyter": {
     "source_hidden": true
    },
    "tags": [
     "remove-input"
    ]
   },
   "outputs": [],
   "source": [
    "df = df_table(acumulado.copy(), spec, fmt)\n",
    "df.style.set_caption(f'{nome_receita} - valores acumulados - {dt.year}').hide(axis='index')\n",
    "#df"
   ]
  },
  {
   "cell_type": "code",
   "execution_count": null,
   "id": "0482c05a-04f5-4a3e-94df-faa0cb02349d",
   "metadata": {
    "jupyter": {
     "source_hidden": true
    },
    "tags": [
     "remove-input"
    ]
   },
   "outputs": [],
   "source": [
    "mensal = prepara_df_mensal(receita.copy())\n",
    "plot_mensal(mensal, nome_receita)"
   ]
  },
  {
   "cell_type": "code",
   "execution_count": null,
   "id": "f8e35ab9-f519-43e9-8d6c-bd868dd3320f",
   "metadata": {
    "jupyter": {
     "source_hidden": true
    },
    "tags": [
     "remove-input"
    ]
   },
   "outputs": [],
   "source": [
    "df = df_table(mensal.copy(), spec, fmt)\n",
    "df.style.set_caption(f'{nome_receita} - valores mensais - {dt.year}').hide(axis='index')"
   ]
  },
  {
   "cell_type": "markdown",
   "id": "e2fab424-6c92-4db2-bed5-92c754c0441d",
   "metadata": {
    "tags": []
   },
   "source": [
    "## Receita Corrente"
   ]
  },
  {
   "cell_type": "code",
   "execution_count": null,
   "id": "70a494e4-8731-4388-b9bc-653375129f09",
   "metadata": {
    "jupyter": {
     "source_hidden": true
    },
    "tags": [
     "remove-input"
    ]
   },
   "outputs": [],
   "source": [
    "nome_receita = 'Receita Corrente'\n",
    "sql = f'''\n",
    "SELECT\n",
    "    data_base,\n",
    "    SUM(receita_realizada) AS arrecadado,\n",
    "    SUM(meta_mensal) AS meta\n",
    "FROM pad.\"RECEITA\"\n",
    "\n",
    "WHERE\n",
    "    controle = {controle_mes}\n",
    "    AND entidade LIKE 'pm'\n",
    "    AND classe_receita NOT LIKE 'intra'\n",
    "    AND receita_base LIKE '1%%'\n",
    "GROUP BY\n",
    "    data_base\n",
    "ORDER BY\n",
    "    data_base ASC\n",
    "'''\n",
    "#print(sql)\n",
    "receita_atual = sqldf(sql)\n",
    "#receita_atual\n",
    "\n",
    "sql = f'''\n",
    "SELECT\n",
    "    data_base,\n",
    "    SUM(receita_realizada) AS arrecadado\n",
    "FROM pad.\"RECEITA\"\n",
    "\n",
    "WHERE\n",
    "    controle = {controle_mes_ano_anterior}\n",
    "    AND entidade LIKE 'pm'\n",
    "    AND classe_receita NOT LIKE 'intra'\n",
    "    AND receita_base LIKE '1%%'\n",
    "GROUP BY\n",
    "    data_base\n",
    "ORDER BY\n",
    "    data_base ASC\n",
    "'''\n",
    "#print(sql)\n",
    "receita_anterior = sqldf(sql)\n",
    "#receita_anterior\n",
    "\n",
    "receita = receita_atual\n",
    "receita['anterior'] = receita_anterior['arrecadado']\n",
    "receita['data_base'] = pd.to_datetime(receita['data_base'], format='%Y-%m-%d')\n",
    "#receita.dtypes"
   ]
  },
  {
   "cell_type": "code",
   "execution_count": null,
   "id": "59d38df6-3b93-4b7c-a21d-fa2ff9b274bd",
   "metadata": {
    "jupyter": {
     "source_hidden": true
    },
    "tags": [
     "remove-input"
    ]
   },
   "outputs": [],
   "source": [
    "acumulado = prepara_df_acumulado(receita.copy())\n",
    "plot_acumulado(acumulado, nome_receita)"
   ]
  },
  {
   "cell_type": "code",
   "execution_count": null,
   "id": "9e427d37-f615-4cba-97fb-e62493c63553",
   "metadata": {
    "jupyter": {
     "source_hidden": true
    },
    "tags": [
     "remove-input"
    ]
   },
   "outputs": [],
   "source": [
    "df = df_table(acumulado.copy(), spec, fmt)\n",
    "df.style.set_caption(f'{nome_receita} - valores acumulados - {dt.year}').hide(axis='index')\n",
    "#df"
   ]
  },
  {
   "cell_type": "code",
   "execution_count": null,
   "id": "db6b6427-430d-4abe-833f-eb68a5861061",
   "metadata": {
    "jupyter": {
     "source_hidden": true
    },
    "tags": [
     "remove-input"
    ]
   },
   "outputs": [],
   "source": [
    "mensal = prepara_df_mensal(receita.copy())\n",
    "plot_mensal(mensal, nome_receita)"
   ]
  },
  {
   "cell_type": "code",
   "execution_count": null,
   "id": "4ad26ed4-aac0-461b-8453-ab5ffe14d6ab",
   "metadata": {
    "jupyter": {
     "source_hidden": true
    },
    "tags": [
     "remove-input"
    ]
   },
   "outputs": [],
   "source": [
    "df = df_table(mensal.copy(), spec, fmt)\n",
    "df.style.set_caption(f'{nome_receita} - valores mensais - {dt.year}').hide(axis='index')"
   ]
  },
  {
   "cell_type": "markdown",
   "id": "6bd8fbb9-e9dc-40b7-9129-b638533375f1",
   "metadata": {},
   "source": [
    "## Arrecadação Própria\n",
    "\n",
    "As receitas de **arrecadação prórpria** são as receitas correntes exceto as transferências e as receitas de rendimenos financeiros e expressam aquelas receitas cujo esforço de arrecadação é exclusivo do Município.yt9923928i"
   ]
  },
  {
   "cell_type": "code",
   "execution_count": null,
   "id": "4c658308-3cbe-4dee-8fec-f09a172c978f",
   "metadata": {
    "tags": [
     "remove-input"
    ]
   },
   "outputs": [],
   "source": [
    "nome_receita = 'Arrecadação Própria'\n",
    "sql = f'''\n",
    "SELECT\n",
    "    data_base,\n",
    "    SUM(receita_realizada) AS arrecadado,\n",
    "    SUM(meta_mensal) AS meta\n",
    "FROM pad.\"RECEITA\"\n",
    "\n",
    "WHERE\n",
    "    controle = {controle_mes}\n",
    "    AND entidade LIKE 'pm'\n",
    "    AND classe_receita NOT LIKE 'intra'\n",
    "    AND receita_base NOT LIKE '17%%'\n",
    "    AND receita_base NOT LIKE '132%%'\n",
    "GROUP BY\n",
    "    data_base\n",
    "ORDER BY\n",
    "    data_base ASC\n",
    "'''\n",
    "#print(sql)\n",
    "receita_atual = sqldf(sql)\n",
    "#receita_atual\n",
    "\n",
    "sql = f'''\n",
    "SELECT\n",
    "    data_base,\n",
    "    SUM(receita_realizada) AS arrecadado\n",
    "FROM pad.\"RECEITA\"\n",
    "\n",
    "WHERE\n",
    "    controle = {controle_mes_ano_anterior}\n",
    "    AND entidade LIKE 'pm'\n",
    "    AND classe_receita NOT LIKE 'intra'\n",
    "    AND receita_base LIKE '1%%'\n",
    "    AND receita_base NOT LIKE '17%%'\n",
    "    AND receita_base NOT LIKE '132%%'\n",
    "GROUP BY\n",
    "    data_base\n",
    "ORDER BY\n",
    "    data_base ASC\n",
    "'''\n",
    "#print(sql)\n",
    "receita_anterior = sqldf(sql)\n",
    "#receita_anterior\n",
    "\n",
    "receita = receita_atual\n",
    "receita['anterior'] = receita_anterior['arrecadado']\n",
    "receita['data_base'] = pd.to_datetime(receita['data_base'], format='%Y-%m-%d')\n",
    "#receita.dtypes"
   ]
  },
  {
   "cell_type": "code",
   "execution_count": null,
   "id": "35527409-3551-49e4-8951-520dc7862a1e",
   "metadata": {
    "tags": [
     "remove-input"
    ]
   },
   "outputs": [],
   "source": [
    "acumulado = prepara_df_acumulado(receita.copy())\n",
    "plot_acumulado(acumulado, nome_receita)"
   ]
  },
  {
   "cell_type": "code",
   "execution_count": null,
   "id": "1ba95543-1240-4524-9d35-07036fca04cb",
   "metadata": {
    "tags": [
     "remove-input"
    ]
   },
   "outputs": [],
   "source": [
    "df = df_table(acumulado.copy(), spec, fmt)\n",
    "df.style.set_caption(f'{nome_receita} - valores acumulados - {dt.year}').hide(axis='index')\n",
    "#df"
   ]
  },
  {
   "cell_type": "code",
   "execution_count": null,
   "id": "6f78160a-e995-4e3b-b3d7-ab47c336bbfa",
   "metadata": {
    "tags": [
     "remove-input"
    ]
   },
   "outputs": [],
   "source": [
    "mensal = prepara_df_mensal(receita.copy())\n",
    "plot_mensal(mensal, nome_receita)"
   ]
  },
  {
   "cell_type": "code",
   "execution_count": null,
   "id": "9e37dd35-7e33-45de-bdaa-a34d6f3f1527",
   "metadata": {
    "tags": [
     "remove-input"
    ]
   },
   "outputs": [],
   "source": [
    "df = df_table(mensal.copy(), spec, fmt)\n",
    "df.style.set_caption(f'{nome_receita} - valores mensais - {dt.year}').hide(axis='index')"
   ]
  },
  {
   "cell_type": "markdown",
   "id": "b6bd457c-f08a-40cf-a886-dee330da0bfd",
   "metadata": {},
   "source": [
    "### Receita da Dívida Ativa"
   ]
  },
  {
   "cell_type": "code",
   "execution_count": null,
   "id": "9f76d321-ddbf-4eec-8c79-47131467638c",
   "metadata": {
    "tags": [
     "remove-input"
    ]
   },
   "outputs": [],
   "source": [
    "nome_receita = 'Receita da Dívida Ativa'\n",
    "sql = f'''\n",
    "SELECT\n",
    "    data_base,\n",
    "    SUM(receita_realizada) AS arrecadado,\n",
    "    SUM(meta_mensal) AS meta\n",
    "FROM pad.\"RECEITA\"\n",
    "\n",
    "WHERE\n",
    "    controle = {controle_mes}\n",
    "    AND entidade LIKE 'pm'\n",
    "    AND classe_receita NOT LIKE 'intra'\n",
    "    AND tipo_receita IN (3, 4, 5, 6, 7, 8)\n",
    "GROUP BY\n",
    "    data_base\n",
    "ORDER BY\n",
    "    data_base ASC\n",
    "'''\n",
    "#print(sql)\n",
    "receita_atual = sqldf(sql)\n",
    "#receita_atual\n",
    "\n",
    "sql = f'''\n",
    "SELECT\n",
    "    data_base,\n",
    "    SUM(receita_realizada) AS arrecadado\n",
    "FROM pad.\"RECEITA\"\n",
    "\n",
    "WHERE\n",
    "    controle = {controle_mes_ano_anterior}\n",
    "    AND entidade LIKE 'pm'\n",
    "    AND classe_receita NOT LIKE 'intra'\n",
    "    AND tipo_receita IN (3, 4, 5, 6, 7, 8)\n",
    "GROUP BY\n",
    "    data_base\n",
    "ORDER BY\n",
    "    data_base ASC\n",
    "'''\n",
    "#print(sql)\n",
    "receita_anterior = sqldf(sql)\n",
    "#receita_anterior\n",
    "\n",
    "receita = receita_atual\n",
    "receita['anterior'] = receita_anterior['arrecadado']\n",
    "receita['data_base'] = pd.to_datetime(receita['data_base'], format='%Y-%m-%d')\n",
    "#receita.dtypes"
   ]
  },
  {
   "cell_type": "code",
   "execution_count": null,
   "id": "6f5127d8-7148-4ad3-89a9-7ec55696eb19",
   "metadata": {
    "tags": [
     "remove-input"
    ]
   },
   "outputs": [],
   "source": [
    "acumulado = prepara_df_acumulado(receita.copy())\n",
    "plot_acumulado(acumulado, nome_receita)"
   ]
  },
  {
   "cell_type": "code",
   "execution_count": null,
   "id": "27d0226d-e929-4104-83eb-45f15cd16f15",
   "metadata": {
    "tags": [
     "remove-input"
    ]
   },
   "outputs": [],
   "source": [
    "df = df_table(acumulado.copy(), spec, fmt)\n",
    "df.style.set_caption(f'{nome_receita} - valores acumulados - {dt.year}').hide(axis='index')\n",
    "#df"
   ]
  },
  {
   "cell_type": "code",
   "execution_count": null,
   "id": "c27db241-da94-4206-9128-c5c843eedd8f",
   "metadata": {
    "tags": [
     "remove-input"
    ]
   },
   "outputs": [],
   "source": [
    "mensal = prepara_df_mensal(receita.copy())\n",
    "plot_mensal(mensal, nome_receita)"
   ]
  },
  {
   "cell_type": "code",
   "execution_count": null,
   "id": "16aff0d6-8e45-4861-a06e-2bdc498eca12",
   "metadata": {
    "tags": [
     "remove-input"
    ]
   },
   "outputs": [],
   "source": [
    "df = df_table(mensal.copy(), spec, fmt)\n",
    "df.style.set_caption(f'{nome_receita} - valores mensais - {dt.year}').hide(axis='index')"
   ]
  },
  {
   "cell_type": "markdown",
   "id": "1e665f65-e99b-480a-98ae-4539b7c4c17e",
   "metadata": {},
   "source": [
    "## Transferências Correntes"
   ]
  },
  {
   "cell_type": "code",
   "execution_count": null,
   "id": "259b4f2f-822a-4766-9faf-edd46fa95155",
   "metadata": {
    "tags": [
     "remove-input"
    ]
   },
   "outputs": [],
   "source": [
    "nome_receita = 'Transferências Correntes'\n",
    "sql = f'''\n",
    "SELECT\n",
    "    data_base,\n",
    "    SUM(receita_realizada) AS arrecadado,\n",
    "    SUM(meta_mensal) AS meta\n",
    "FROM pad.\"RECEITA\"\n",
    "\n",
    "WHERE\n",
    "    controle = {controle_mes}\n",
    "    AND entidade LIKE 'pm'\n",
    "    AND classe_receita NOT LIKE 'intra'\n",
    "    AND receita_base LIKE '17%%'\n",
    "GROUP BY\n",
    "    data_base\n",
    "ORDER BY\n",
    "    data_base ASC\n",
    "'''\n",
    "#print(sql)\n",
    "receita_atual = sqldf(sql)\n",
    "#receita_atual\n",
    "\n",
    "sql = f'''\n",
    "SELECT\n",
    "    data_base,\n",
    "    SUM(receita_realizada) AS arrecadado\n",
    "FROM pad.\"RECEITA\"\n",
    "\n",
    "WHERE\n",
    "    controle = {controle_mes_ano_anterior}\n",
    "    AND entidade LIKE 'pm'\n",
    "    AND classe_receita NOT LIKE 'intra'\n",
    "    AND receita_base LIKE '17%%'\n",
    "GROUP BY\n",
    "    data_base\n",
    "ORDER BY\n",
    "    data_base ASC\n",
    "'''\n",
    "#print(sql)\n",
    "receita_anterior = sqldf(sql)\n",
    "#receita_anterior\n",
    "\n",
    "receita = receita_atual\n",
    "receita['anterior'] = receita_anterior['arrecadado']\n",
    "receita['data_base'] = pd.to_datetime(receita['data_base'], format='%Y-%m-%d')\n",
    "#receita.dtypes"
   ]
  },
  {
   "cell_type": "code",
   "execution_count": null,
   "id": "afae8c60-b038-4cfd-875d-642838cbdb83",
   "metadata": {
    "tags": [
     "remove-input"
    ]
   },
   "outputs": [],
   "source": [
    "acumulado = prepara_df_acumulado(receita.copy())\n",
    "plot_acumulado(acumulado, nome_receita)"
   ]
  },
  {
   "cell_type": "code",
   "execution_count": null,
   "id": "e21bb320-80f6-47be-ac54-ee4cbb0ecf41",
   "metadata": {
    "tags": [
     "remove-input"
    ]
   },
   "outputs": [],
   "source": [
    "df = df_table(acumulado.copy(), spec, fmt)\n",
    "df.style.set_caption(f'{nome_receita} - valores acumulados - {dt.year}').hide(axis='index')\n",
    "#df"
   ]
  },
  {
   "cell_type": "code",
   "execution_count": null,
   "id": "52f856e3-f3a7-4c23-91df-0611a2bac1c2",
   "metadata": {
    "tags": [
     "remove-input"
    ]
   },
   "outputs": [],
   "source": [
    "mensal = prepara_df_mensal(receita.copy())\n",
    "plot_mensal(mensal, nome_receita)"
   ]
  },
  {
   "cell_type": "code",
   "execution_count": null,
   "id": "2839a3d2-43f9-4b25-94a4-77b7267c2bf2",
   "metadata": {
    "tags": [
     "remove-input"
    ]
   },
   "outputs": [],
   "source": [
    "df = df_table(mensal.copy(), spec, fmt)\n",
    "df.style.set_caption(f'{nome_receita} - valores mensais - {dt.year}').hide(axis='index')"
   ]
  },
  {
   "cell_type": "markdown",
   "id": "28cb0c1e-3280-44bf-9fe9-911c6087a587",
   "metadata": {},
   "source": [
    "### Transferências do Fundeb\n",
    "\n",
    "Engloba os valores recebidos do Fundeb. Não são considerados os rendimentos financeiros nem os valores deduzidos para o Fundeb."
   ]
  },
  {
   "cell_type": "code",
   "execution_count": null,
   "id": "5e0a8cf5-2ea1-4f9f-9020-b47191dd7980",
   "metadata": {
    "tags": [
     "remove-input"
    ]
   },
   "outputs": [],
   "source": [
    "nome_receita = 'Transferências do Fundeb'\n",
    "sql = f'''\n",
    "SELECT\n",
    "    data_base,\n",
    "    SUM(receita_realizada) AS arrecadado,\n",
    "    SUM(meta_mensal) AS meta\n",
    "FROM pad.\"RECEITA\"\n",
    "\n",
    "WHERE\n",
    "    controle = {controle_mes}\n",
    "    AND entidade LIKE 'pm'\n",
    "    AND classe_receita NOT LIKE 'intra'\n",
    "    AND receita_base LIKE '17%%'\n",
    "    AND fonte_recurso IN (540, 541, 542, 543)\n",
    "GROUP BY\n",
    "    data_base\n",
    "ORDER BY\n",
    "    data_base ASC\n",
    "'''\n",
    "#print(sql)\n",
    "receita_atual = sqldf(sql)\n",
    "#receita_atual\n",
    "\n",
    "sql = f'''\n",
    "SELECT\n",
    "    data_base,\n",
    "    SUM(receita_realizada) AS arrecadado\n",
    "FROM pad.\"RECEITA\"\n",
    "\n",
    "WHERE\n",
    "    controle = {controle_mes_ano_anterior}\n",
    "    AND entidade LIKE 'pm'\n",
    "    AND classe_receita NOT LIKE 'intra'\n",
    "    AND receita_base LIKE '17%%'\n",
    "    AND fonte_recurso IN (540, 541, 542, 543)\n",
    "GROUP BY\n",
    "    data_base\n",
    "ORDER BY\n",
    "    data_base ASC\n",
    "'''\n",
    "#print(sql)\n",
    "receita_anterior = sqldf(sql)\n",
    "#receita_anterior\n",
    "\n",
    "receita = receita_atual\n",
    "receita['anterior'] = receita_anterior['arrecadado']\n",
    "receita['data_base'] = pd.to_datetime(receita['data_base'], format='%Y-%m-%d')\n",
    "#receita.dtypes"
   ]
  },
  {
   "cell_type": "code",
   "execution_count": null,
   "id": "468560f8-9e24-4e95-af1a-0a9d61c2b03f",
   "metadata": {
    "tags": [
     "remove-input"
    ]
   },
   "outputs": [],
   "source": [
    "acumulado = prepara_df_acumulado(receita.copy())\n",
    "plot_acumulado(acumulado, nome_receita)"
   ]
  },
  {
   "cell_type": "code",
   "execution_count": null,
   "id": "192393b9-a41f-49d7-9471-ea07074a628d",
   "metadata": {
    "tags": [
     "remove-input"
    ]
   },
   "outputs": [],
   "source": [
    "df = df_table(acumulado.copy(), spec, fmt)\n",
    "df.style.set_caption(f'{nome_receita} - valores acumulados - {dt.year}').hide(axis='index')\n",
    "#df"
   ]
  },
  {
   "cell_type": "code",
   "execution_count": null,
   "id": "cc389a2c-707f-4d63-a888-7e7f0500d448",
   "metadata": {
    "tags": [
     "remove-input"
    ]
   },
   "outputs": [],
   "source": [
    "mensal = prepara_df_mensal(receita.copy())\n",
    "plot_mensal(mensal, nome_receita)"
   ]
  },
  {
   "cell_type": "code",
   "execution_count": null,
   "id": "1d84a485-98d0-42b6-9bed-6e28986960ad",
   "metadata": {
    "tags": [
     "remove-input"
    ]
   },
   "outputs": [],
   "source": [
    "df = df_table(mensal.copy(), spec, fmt)\n",
    "df.style.set_caption(f'{nome_receita} - valores mensais - {dt.year}').hide(axis='index')"
   ]
  },
  {
   "cell_type": "markdown",
   "id": "ea2b5bcc-0ea1-4189-94fe-cbb99f084b39",
   "metadata": {},
   "source": [
    "### Transferências recebidas da União\n",
    "\n",
    "Engloba as transferências correntes recebidas da União, inclusive convênios."
   ]
  },
  {
   "cell_type": "code",
   "execution_count": null,
   "id": "7dd5bf73-724d-4137-add5-0b67b2dc7562",
   "metadata": {
    "tags": [
     "remove-input"
    ]
   },
   "outputs": [],
   "source": [
    "nome_receita = 'Transferências recebidas da União'\n",
    "sql = f'''\n",
    "SELECT\n",
    "    data_base,\n",
    "    SUM(receita_realizada) AS arrecadado,\n",
    "    SUM(meta_mensal) AS meta\n",
    "FROM pad.\"RECEITA\"\n",
    "\n",
    "WHERE\n",
    "    controle = {controle_mes}\n",
    "    AND entidade LIKE 'pm'\n",
    "    AND classe_receita NOT LIKE 'intra'\n",
    "    AND receita_base LIKE '171%%'\n",
    "GROUP BY\n",
    "    data_base\n",
    "ORDER BY\n",
    "    data_base ASC\n",
    "'''\n",
    "#print(sql)\n",
    "receita_atual = sqldf(sql)\n",
    "#receita_atual\n",
    "\n",
    "sql = f'''\n",
    "SELECT\n",
    "    data_base,\n",
    "    SUM(receita_realizada) AS arrecadado\n",
    "FROM pad.\"RECEITA\"\n",
    "\n",
    "WHERE\n",
    "    controle = {controle_mes_ano_anterior}\n",
    "    AND entidade LIKE 'pm'\n",
    "    AND classe_receita NOT LIKE 'intra'\n",
    "    AND receita_base LIKE '171%%'\n",
    "GROUP BY\n",
    "    data_base\n",
    "ORDER BY\n",
    "    data_base ASC\n",
    "'''\n",
    "#print(sql)\n",
    "receita_anterior = sqldf(sql)\n",
    "#receita_anterior\n",
    "\n",
    "receita = receita_atual\n",
    "receita['anterior'] = receita_anterior['arrecadado']\n",
    "receita['data_base'] = pd.to_datetime(receita['data_base'], format='%Y-%m-%d')\n",
    "#receita.dtypes"
   ]
  },
  {
   "cell_type": "code",
   "execution_count": null,
   "id": "0106983d-4d16-498c-b457-50e6637df805",
   "metadata": {
    "tags": [
     "remove-input"
    ]
   },
   "outputs": [],
   "source": [
    "acumulado = prepara_df_acumulado(receita.copy())\n",
    "plot_acumulado(acumulado, nome_receita)"
   ]
  },
  {
   "cell_type": "code",
   "execution_count": null,
   "id": "28a61ebd-a60c-4c82-abe9-603d41ad963d",
   "metadata": {
    "tags": [
     "remove-input"
    ]
   },
   "outputs": [],
   "source": [
    "df = df_table(acumulado.copy(), spec, fmt)\n",
    "df.style.set_caption(f'{nome_receita} - valores acumulados - {dt.year}').hide(axis='index')\n",
    "#df"
   ]
  },
  {
   "cell_type": "code",
   "execution_count": null,
   "id": "ca16ac50-ea13-4ac8-8670-e6079e04149e",
   "metadata": {
    "tags": [
     "remove-input"
    ]
   },
   "outputs": [],
   "source": [
    "mensal = prepara_df_mensal(receita.copy())\n",
    "plot_mensal(mensal, nome_receita)"
   ]
  },
  {
   "cell_type": "code",
   "execution_count": null,
   "id": "2c44b0ac-7b88-4cce-bc10-014812f07ac9",
   "metadata": {
    "tags": [
     "remove-input"
    ]
   },
   "outputs": [],
   "source": [
    "df = df_table(mensal.copy(), spec, fmt)\n",
    "df.style.set_caption(f'{nome_receita} - valores mensais - {dt.year}').hide(axis='index')"
   ]
  },
  {
   "cell_type": "markdown",
   "id": "101c3828-0e18-4d0a-8523-332b0f9afda4",
   "metadata": {},
   "source": [
    "#### FPM\n",
    "\n",
    "Engloba as cotas mensais e extras."
   ]
  },
  {
   "cell_type": "code",
   "execution_count": null,
   "id": "c7105c8c-3985-4596-99db-a39de33665f7",
   "metadata": {
    "tags": [
     "remove-input"
    ]
   },
   "outputs": [],
   "source": [
    "nome_receita = 'FPM'\n",
    "sql = f'''\n",
    "SELECT\n",
    "    data_base,\n",
    "    SUM(receita_realizada) AS arrecadado,\n",
    "    SUM(meta_mensal) AS meta\n",
    "FROM pad.\"RECEITA\"\n",
    "\n",
    "WHERE\n",
    "    controle = {controle_mes}\n",
    "    AND entidade LIKE 'pm'\n",
    "    AND classe_receita NOT LIKE 'intra'\n",
    "    AND receita_base LIKE '171151%%'\n",
    "GROUP BY\n",
    "    data_base\n",
    "ORDER BY\n",
    "    data_base ASC\n",
    "'''\n",
    "#print(sql)\n",
    "receita_atual = sqldf(sql)\n",
    "#receita_atual\n",
    "\n",
    "sql = f'''\n",
    "SELECT\n",
    "    data_base,\n",
    "    SUM(receita_realizada) AS arrecadado\n",
    "FROM pad.\"RECEITA\"\n",
    "\n",
    "WHERE\n",
    "    controle = {controle_mes_ano_anterior}\n",
    "    AND entidade LIKE 'pm'\n",
    "    AND classe_receita NOT LIKE 'intra'\n",
    "    AND receita_base LIKE '1718012%%'\n",
    "    OR receita_base LIKE '1718013%%'\n",
    "    OR receita_base LIKE '1718013%%'\n",
    "GROUP BY\n",
    "    data_base\n",
    "ORDER BY\n",
    "    data_base ASC\n",
    "'''\n",
    "#print(sql)\n",
    "receita_anterior = sqldf(sql)\n",
    "#receita_anterior\n",
    "\n",
    "receita = receita_atual\n",
    "receita['anterior'] = receita_anterior['arrecadado']\n",
    "receita['data_base'] = pd.to_datetime(receita['data_base'], format='%Y-%m-%d')\n",
    "#receita.dtypes"
   ]
  },
  {
   "cell_type": "code",
   "execution_count": null,
   "id": "07aaa209-fc1a-4647-80f9-598f7ab5a1cb",
   "metadata": {
    "tags": [
     "remove-input"
    ]
   },
   "outputs": [],
   "source": [
    "acumulado = prepara_df_acumulado(receita.copy())\n",
    "plot_acumulado(acumulado, nome_receita)"
   ]
  },
  {
   "cell_type": "code",
   "execution_count": null,
   "id": "71b6b99a-0148-402b-8978-b56da8cec614",
   "metadata": {
    "tags": [
     "remove-input"
    ]
   },
   "outputs": [],
   "source": [
    "df = df_table(acumulado.copy(), spec, fmt)\n",
    "df.style.set_caption(f'{nome_receita} - valores acumulados - {dt.year}').hide(axis='index')\n",
    "#df"
   ]
  },
  {
   "cell_type": "code",
   "execution_count": null,
   "id": "a02b44f6-a8b7-4e31-af89-beb4fa3defe0",
   "metadata": {
    "tags": [
     "remove-input"
    ]
   },
   "outputs": [],
   "source": [
    "mensal = prepara_df_mensal(receita.copy())\n",
    "plot_mensal(mensal, nome_receita)"
   ]
  },
  {
   "cell_type": "code",
   "execution_count": null,
   "id": "36c408d8-f45b-416f-b753-8c6706357541",
   "metadata": {
    "tags": [
     "remove-input"
    ]
   },
   "outputs": [],
   "source": [
    "df = df_table(mensal.copy(), spec, fmt)\n",
    "df.style.set_caption(f'{nome_receita} - valores mensais - {dt.year}').hide(axis='index')"
   ]
  },
  {
   "cell_type": "markdown",
   "id": "e7f9f144-64a0-4576-88c7-bd1146ccf205",
   "metadata": {},
   "source": [
    "### Transferências recebidas do Estado\n",
    "\n",
    "Engloaba as transferências correntes recebidas do Estado, inclusive convênios."
   ]
  },
  {
   "cell_type": "code",
   "execution_count": null,
   "id": "d6e6cf75-3245-45be-83cf-74d493f85d42",
   "metadata": {
    "tags": [
     "remove-input"
    ]
   },
   "outputs": [],
   "source": [
    "nome_receita = 'Transferências recebidas do Estado'\n",
    "sql = f'''\n",
    "SELECT\n",
    "    data_base,\n",
    "    SUM(receita_realizada) AS arrecadado,\n",
    "    SUM(meta_mensal) AS meta\n",
    "FROM pad.\"RECEITA\"\n",
    "\n",
    "WHERE\n",
    "    controle = {controle_mes}\n",
    "    AND entidade LIKE 'pm'\n",
    "    AND classe_receita NOT LIKE 'intra'\n",
    "    AND receita_base LIKE '172%%'\n",
    "GROUP BY\n",
    "    data_base\n",
    "ORDER BY\n",
    "    data_base ASC\n",
    "'''\n",
    "#print(sql)\n",
    "receita_atual = sqldf(sql)\n",
    "#receita_atual\n",
    "\n",
    "sql = f'''\n",
    "SELECT\n",
    "    data_base,\n",
    "    SUM(receita_realizada) AS arrecadado\n",
    "FROM pad.\"RECEITA\"\n",
    "\n",
    "WHERE\n",
    "    controle = {controle_mes_ano_anterior}\n",
    "    AND entidade LIKE 'pm'\n",
    "    AND classe_receita NOT LIKE 'intra'\n",
    "    AND receita_base LIKE '172%%'\n",
    "GROUP BY\n",
    "    data_base\n",
    "ORDER BY\n",
    "    data_base ASC\n",
    "'''\n",
    "#print(sql)\n",
    "receita_anterior = sqldf(sql)\n",
    "#receita_anterior\n",
    "\n",
    "receita = receita_atual\n",
    "receita['anterior'] = receita_anterior['arrecadado']\n",
    "receita['data_base'] = pd.to_datetime(receita['data_base'], format='%Y-%m-%d')\n",
    "#receita.dtypes"
   ]
  },
  {
   "cell_type": "code",
   "execution_count": null,
   "id": "b0e14ccd-f1a6-4971-87ff-c3558617f7c7",
   "metadata": {
    "tags": [
     "remove-input"
    ]
   },
   "outputs": [],
   "source": [
    "acumulado = prepara_df_acumulado(receita.copy())\n",
    "plot_acumulado(acumulado, nome_receita)"
   ]
  },
  {
   "cell_type": "code",
   "execution_count": null,
   "id": "23964c48-4458-4d52-a2ab-a9031629f5ef",
   "metadata": {
    "tags": [
     "remove-input"
    ]
   },
   "outputs": [],
   "source": [
    "df = df_table(acumulado.copy(), spec, fmt)\n",
    "df.style.set_caption(f'{nome_receita} - valores acumulados - {dt.year}').hide(axis='index')\n",
    "#df"
   ]
  },
  {
   "cell_type": "code",
   "execution_count": null,
   "id": "3ddb5d15-1104-4f82-9575-a929bdd48ed8",
   "metadata": {
    "tags": [
     "remove-input"
    ]
   },
   "outputs": [],
   "source": [
    "mensal = prepara_df_mensal(receita.copy())\n",
    "plot_mensal(mensal, nome_receita)"
   ]
  },
  {
   "cell_type": "code",
   "execution_count": null,
   "id": "6154766d-b3f1-4cf3-b1dc-5c7b46dde3e8",
   "metadata": {
    "tags": [
     "remove-input"
    ]
   },
   "outputs": [],
   "source": [
    "df = df_table(mensal.copy(), spec, fmt)\n",
    "df.style.set_caption(f'{nome_receita} - valores mensais - {dt.year}').hide(axis='index')"
   ]
  },
  {
   "cell_type": "markdown",
   "id": "2a9af9c7-1918-40af-8de2-ef14bbbc9a9f",
   "metadata": {},
   "source": [
    "#### ICMS"
   ]
  },
  {
   "cell_type": "code",
   "execution_count": null,
   "id": "04eba5f1-fa9e-428a-909f-618d8930a813",
   "metadata": {
    "tags": [
     "remove-input"
    ]
   },
   "outputs": [],
   "source": [
    "nome_receita = 'ICMS'\n",
    "sql = f'''\n",
    "SELECT\n",
    "    data_base,\n",
    "    SUM(receita_realizada) AS arrecadado,\n",
    "    SUM(meta_mensal) AS meta\n",
    "FROM pad.\"RECEITA\"\n",
    "\n",
    "WHERE\n",
    "    controle = {controle_mes}\n",
    "    AND entidade LIKE 'pm'\n",
    "    AND classe_receita NOT LIKE 'intra'\n",
    "    AND receita_base LIKE '172150%%'\n",
    "GROUP BY\n",
    "    data_base\n",
    "ORDER BY\n",
    "    data_base ASC\n",
    "'''\n",
    "#print(sql)\n",
    "receita_atual = sqldf(sql)\n",
    "#receita_atual\n",
    "\n",
    "sql = f'''\n",
    "SELECT\n",
    "    data_base,\n",
    "    SUM(receita_realizada) AS arrecadado\n",
    "FROM pad.\"RECEITA\"\n",
    "\n",
    "WHERE\n",
    "    controle = {controle_mes_ano_anterior}\n",
    "    AND entidade LIKE 'pm'\n",
    "    AND classe_receita NOT LIKE 'intra'\n",
    "    AND receita_base LIKE '1728011%%'\n",
    "GROUP BY\n",
    "    data_base\n",
    "ORDER BY\n",
    "    data_base ASC\n",
    "'''\n",
    "#print(sql)\n",
    "receita_anterior = sqldf(sql)\n",
    "#receita_anterior\n",
    "\n",
    "receita = receita_atual\n",
    "receita['anterior'] = receita_anterior['arrecadado']\n",
    "receita['data_base'] = pd.to_datetime(receita['data_base'], format='%Y-%m-%d')\n",
    "#receita.dtypes"
   ]
  },
  {
   "cell_type": "code",
   "execution_count": null,
   "id": "d8e64b86-3426-4e2a-8feb-718748a41119",
   "metadata": {
    "tags": [
     "remove-input"
    ]
   },
   "outputs": [],
   "source": [
    "acumulado = prepara_df_acumulado(receita.copy())\n",
    "plot_acumulado(acumulado, nome_receita)"
   ]
  },
  {
   "cell_type": "code",
   "execution_count": null,
   "id": "471065ae-b152-4b47-9a89-bc7bab1d13d9",
   "metadata": {
    "tags": [
     "remove-input"
    ]
   },
   "outputs": [],
   "source": [
    "df = df_table(acumulado.copy(), spec, fmt)\n",
    "df.style.set_caption(f'{nome_receita} - valores acumulados - {dt.year}').hide(axis='index')\n",
    "#df"
   ]
  },
  {
   "cell_type": "code",
   "execution_count": null,
   "id": "06728d57-1c67-4afd-b565-74077d128423",
   "metadata": {
    "tags": [
     "remove-input"
    ]
   },
   "outputs": [],
   "source": [
    "mensal = prepara_df_mensal(receita.copy())\n",
    "plot_mensal(mensal, nome_receita)"
   ]
  },
  {
   "cell_type": "code",
   "execution_count": null,
   "id": "78af7857-bf83-4900-9ccf-4b3fde6415d9",
   "metadata": {
    "tags": [
     "remove-input"
    ]
   },
   "outputs": [],
   "source": [
    "df = df_table(mensal.copy(), spec, fmt)\n",
    "df.style.set_caption(f'{nome_receita} - valores mensais - {dt.year}').hide(axis='index')"
   ]
  },
  {
   "cell_type": "markdown",
   "id": "8a5a26d4-f01c-45c0-b168-67e6925aac20",
   "metadata": {},
   "source": [
    "### Transferências para a Saúde\n",
    "\n",
    "Considera as transferências correntes recebidas da União e do Estado para a área da Saúde."
   ]
  },
  {
   "cell_type": "code",
   "execution_count": null,
   "id": "a598a531-ebc2-4ea6-a18a-c4b60c9ecd9a",
   "metadata": {
    "tags": [
     "remove-input"
    ]
   },
   "outputs": [],
   "source": [
    "nome_receita = 'Transferências para a Saúde'\n",
    "sql = f'''\n",
    "SELECT\n",
    "    data_base,\n",
    "    SUM(receita_realizada) AS arrecadado,\n",
    "    SUM(meta_mensal) AS meta\n",
    "FROM pad.\"RECEITA\"\n",
    "\n",
    "WHERE\n",
    "    controle = {controle_mes}\n",
    "    AND entidade LIKE 'pm'\n",
    "    AND classe_receita NOT LIKE 'intra'\n",
    "    AND receita_base LIKE '17%%'\n",
    "    AND fonte_recurso BETWEEN 600 AND 659\n",
    "GROUP BY\n",
    "    data_base\n",
    "ORDER BY\n",
    "    data_base ASC\n",
    "'''\n",
    "#print(sql)\n",
    "receita_atual = sqldf(sql)\n",
    "#receita_atual\n",
    "\n",
    "sql = f'''\n",
    "SELECT\n",
    "    data_base,\n",
    "    SUM(receita_realizada) AS arrecadado\n",
    "FROM pad.\"RECEITA\"\n",
    "\n",
    "WHERE\n",
    "    controle = {controle_mes_ano_anterior}\n",
    "    AND entidade LIKE 'pm'\n",
    "    AND classe_receita NOT LIKE 'intra'\n",
    "    AND receita_base LIKE '171803%%'\n",
    "    OR receita_base LIKE '171804%%'\n",
    "    OR receita_base LIKE '1718101%%'\n",
    "    OR receita_base LIKE '172803%%'\n",
    "    OR receita_base LIKE '1728101%%'\n",
    "GROUP BY\n",
    "    data_base\n",
    "ORDER BY\n",
    "    data_base ASC\n",
    "'''\n",
    "#print(sql)\n",
    "receita_anterior = sqldf(sql)\n",
    "#receita_anterior\n",
    "\n",
    "receita = receita_atual\n",
    "receita['anterior'] = receita_anterior['arrecadado']\n",
    "receita['data_base'] = pd.to_datetime(receita['data_base'], format='%Y-%m-%d')\n",
    "#receita.dtypes"
   ]
  },
  {
   "cell_type": "code",
   "execution_count": null,
   "id": "de8ae029-b64f-41da-8275-a0e9d65c5d02",
   "metadata": {
    "tags": [
     "remove-input"
    ]
   },
   "outputs": [],
   "source": [
    "acumulado = prepara_df_acumulado(receita.copy())\n",
    "plot_acumulado(acumulado, nome_receita)"
   ]
  },
  {
   "cell_type": "code",
   "execution_count": null,
   "id": "96dc25ac-c14f-4010-acb8-09b1c9be8314",
   "metadata": {
    "tags": [
     "remove-input"
    ]
   },
   "outputs": [],
   "source": [
    "df = df_table(acumulado.copy(), spec, fmt)\n",
    "df.style.set_caption(f'{nome_receita} - valores acumulados - {dt.year}').hide(axis='index')\n",
    "#df"
   ]
  },
  {
   "cell_type": "code",
   "execution_count": null,
   "id": "9c5310e6-0bab-4651-92ca-87e81172cbb0",
   "metadata": {
    "tags": [
     "remove-input"
    ]
   },
   "outputs": [],
   "source": [
    "mensal = prepara_df_mensal(receita.copy())\n",
    "plot_mensal(mensal, nome_receita)"
   ]
  },
  {
   "cell_type": "code",
   "execution_count": null,
   "id": "51c767cf-4a1a-4d81-9b42-29c7d88b2859",
   "metadata": {
    "tags": [
     "remove-input"
    ]
   },
   "outputs": [],
   "source": [
    "df = df_table(mensal.copy(), spec, fmt)\n",
    "df.style.set_caption(f'{nome_receita} - valores mensais - {dt.year}').hide(axis='index')"
   ]
  },
  {
   "cell_type": "markdown",
   "id": "55afebe4-a317-478d-b6b4-920bbbefd465",
   "metadata": {},
   "source": [
    "### Transferências para a Educação\n",
    "\n",
    "Considera as transferências correntes recebidas da União e do Estado para a área da Educação (exceto o Fundeb)."
   ]
  },
  {
   "cell_type": "code",
   "execution_count": null,
   "id": "3d995d74-e60c-45a5-a6c4-e46d0c8b009e",
   "metadata": {
    "tags": [
     "remove-input"
    ]
   },
   "outputs": [],
   "source": [
    "nome_receita = 'Transferências para a Educação'\n",
    "sql = f'''\n",
    "SELECT\n",
    "    data_base,\n",
    "    SUM(receita_realizada) AS arrecadado,\n",
    "    SUM(meta_mensal) AS meta\n",
    "FROM pad.\"RECEITA\"\n",
    "\n",
    "WHERE\n",
    "    controle = {controle_mes}\n",
    "    AND entidade LIKE 'pm'\n",
    "    AND classe_receita NOT LIKE 'intra'\n",
    "    AND receita_base LIKE '1714%%'\n",
    "    OR receita_base LIKE '171751%%'\n",
    "    OR receita_base LIKE '172451%%'\n",
    "GROUP BY\n",
    "    data_base\n",
    "ORDER BY\n",
    "    data_base ASC\n",
    "'''\n",
    "#print(sql)\n",
    "receita_atual = sqldf(sql)\n",
    "#receita_atual\n",
    "\n",
    "sql = f'''\n",
    "SELECT\n",
    "    data_base,\n",
    "    SUM(receita_realizada) AS arrecadado\n",
    "FROM pad.\"RECEITA\"\n",
    "\n",
    "WHERE\n",
    "    controle = {controle_mes_ano_anterior}\n",
    "    AND entidade LIKE 'pm'\n",
    "    AND classe_receita NOT LIKE 'intra'\n",
    "    AND receita_base LIKE '17%%'\n",
    "    AND fonte_recurso BETWEEN 550 AND 599\n",
    "GROUP BY\n",
    "    data_base\n",
    "ORDER BY\n",
    "    data_base ASC\n",
    "'''\n",
    "#print(sql)\n",
    "receita_anterior = sqldf(sql)\n",
    "#receita_anterior\n",
    "\n",
    "receita = receita_atual\n",
    "receita['anterior'] = receita_anterior['arrecadado']\n",
    "receita['data_base'] = pd.to_datetime(receita['data_base'], format='%Y-%m-%d')\n",
    "#receita.dtypes"
   ]
  },
  {
   "cell_type": "code",
   "execution_count": null,
   "id": "a949c20f-b9ff-4a0d-8cf9-a27c6070fa18",
   "metadata": {
    "tags": [
     "remove-input"
    ]
   },
   "outputs": [],
   "source": [
    "acumulado = prepara_df_acumulado(receita.copy())\n",
    "plot_acumulado(acumulado, nome_receita)"
   ]
  },
  {
   "cell_type": "code",
   "execution_count": null,
   "id": "7afd1201-e6a6-47b0-8252-a49c1d42fab1",
   "metadata": {
    "tags": [
     "remove-input"
    ]
   },
   "outputs": [],
   "source": [
    "df = df_table(acumulado.copy(), spec, fmt)\n",
    "df.style.set_caption(f'{nome_receita} - valores acumulados - {dt.year}').hide(axis='index')\n",
    "#df"
   ]
  },
  {
   "cell_type": "code",
   "execution_count": null,
   "id": "1a54b145-ef46-4ce4-ae44-a8d4c669f0b6",
   "metadata": {
    "tags": [
     "remove-input"
    ]
   },
   "outputs": [],
   "source": [
    "mensal = prepara_df_mensal(receita.copy())\n",
    "plot_mensal(mensal, nome_receita)"
   ]
  },
  {
   "cell_type": "code",
   "execution_count": null,
   "id": "73cc198e-212e-4cda-917f-ebb5769826a5",
   "metadata": {
    "tags": [
     "remove-input"
    ]
   },
   "outputs": [],
   "source": [
    "df = df_table(mensal.copy(), spec, fmt)\n",
    "df.style.set_caption(f'{nome_receita} - valores mensais - {dt.year}').hide(axis='index')"
   ]
  },
  {
   "cell_type": "markdown",
   "id": "446c5a22-042e-42b4-a927-4ca1f9ce4bff",
   "metadata": {},
   "source": [
    "### Transferências para a Assistência Social\n",
    "\n",
    "Considera as transferências correntes recebidas da União e do Estado para a área da Assistência Social."
   ]
  },
  {
   "cell_type": "code",
   "execution_count": null,
   "id": "592b49d4-db8a-4a7b-b167-7f99d25b23f7",
   "metadata": {
    "tags": [
     "remove-input"
    ]
   },
   "outputs": [],
   "source": [
    "nome_receita = 'Transferências para a Assistência Social'\n",
    "sql = f'''\n",
    "SELECT\n",
    "    data_base,\n",
    "    SUM(receita_realizada) AS arrecadado,\n",
    "    SUM(meta_mensal) AS meta\n",
    "FROM pad.\"RECEITA\"\n",
    "\n",
    "WHERE\n",
    "    controle = {controle_mes}\n",
    "    AND entidade LIKE 'pm'\n",
    "    AND classe_receita NOT LIKE 'intra'\n",
    "    AND receita_base LIKE '17%%'\n",
    "    AND fonte_recurso BETWEEN 660 AND 669\n",
    "GROUP BY\n",
    "    data_base\n",
    "ORDER BY\n",
    "    data_base ASC\n",
    "'''\n",
    "#print(sql)\n",
    "receita_atual = sqldf(sql)\n",
    "#receita_atual\n",
    "\n",
    "sql = f'''\n",
    "SELECT\n",
    "    data_base,\n",
    "    SUM(receita_realizada) AS arrecadado\n",
    "FROM pad.\"RECEITA\"\n",
    "\n",
    "WHERE\n",
    "    controle = {controle_mes_ano_anterior}\n",
    "    AND entidade LIKE 'pm'\n",
    "    AND classe_receita NOT LIKE 'intra'\n",
    "    AND receita_base LIKE '1718103%%'\n",
    "    OR receita_base LIKE '171812%%'\n",
    "    OR receita_base LIKE '172807%%'\n",
    "    OR receita_base LIKE '1728109107%%'\n",
    "GROUP BY\n",
    "    data_base\n",
    "ORDER BY\n",
    "    data_base ASC\n",
    "'''\n",
    "#print(sql)\n",
    "receita_anterior = sqldf(sql)\n",
    "#receita_anterior\n",
    "\n",
    "receita = receita_atual\n",
    "receita['anterior'] = receita_anterior['arrecadado']\n",
    "receita['data_base'] = pd.to_datetime(receita['data_base'], format='%Y-%m-%d')\n",
    "#receita.dtypes"
   ]
  },
  {
   "cell_type": "code",
   "execution_count": null,
   "id": "d5123328-e76d-4363-8670-1fa0e3ef3e8e",
   "metadata": {
    "tags": [
     "remove-input"
    ]
   },
   "outputs": [],
   "source": [
    "acumulado = prepara_df_acumulado(receita.copy())\n",
    "plot_acumulado(acumulado, nome_receita)"
   ]
  },
  {
   "cell_type": "code",
   "execution_count": null,
   "id": "9f9d3af6-76b9-494a-8e82-7493692a744e",
   "metadata": {
    "tags": [
     "remove-input"
    ]
   },
   "outputs": [],
   "source": [
    "df = df_table(acumulado.copy(), spec, fmt)\n",
    "df.style.set_caption(f'{nome_receita} - valores acumulados - {dt.year}').hide(axis='index')\n",
    "#df"
   ]
  },
  {
   "cell_type": "code",
   "execution_count": null,
   "id": "bcc5c9f2-2ab9-47b1-bfb4-1d86c8428d30",
   "metadata": {
    "tags": [
     "remove-input"
    ]
   },
   "outputs": [],
   "source": [
    "mensal = prepara_df_mensal(receita.copy())\n",
    "plot_mensal(mensal, nome_receita)"
   ]
  },
  {
   "cell_type": "code",
   "execution_count": null,
   "id": "c2a48192-f958-4110-92e5-ae188290645c",
   "metadata": {
    "tags": [
     "remove-input"
    ]
   },
   "outputs": [],
   "source": [
    "df = df_table(mensal.copy(), spec, fmt)\n",
    "df.style.set_caption(f'{nome_receita} - valores mensais - {dt.year}').hide(axis='index')"
   ]
  }
 ],
 "metadata": {
  "kernelspec": {
   "display_name": "Python 3 (ipykernel)",
   "language": "python",
   "name": "python3"
  },
  "language_info": {
   "codemirror_mode": {
    "name": "ipython",
    "version": 3
   },
   "file_extension": ".py",
   "mimetype": "text/x-python",
   "name": "python",
   "nbconvert_exporter": "python",
   "pygments_lexer": "ipython3",
   "version": "3.11.3"
  }
 },
 "nbformat": 4,
 "nbformat_minor": 5
}
